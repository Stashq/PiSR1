{
 "cells": [
  {
   "cell_type": "code",
   "execution_count": null,
   "id": "finished-boxing",
   "metadata": {},
   "outputs": [],
   "source": [
    "%load_ext autoreload\n",
    "%autoreload 2\n",
    "\n",
    "import sys; sys.path.append('../')\n",
    "\n",
    "from pathlib import Path\n",
    "\n",
    "import pandas as pd\n",
    "import torch\n",
    "from sklearn.model_selection import train_test_split\n",
    "from sklearn.preprocessing import LabelEncoder\n",
    "from torch.nn import MSELoss\n",
    "\n",
    "from src.models.torch.embedded_regression import EmbeddedRegression\n",
    "from src.models.torch.trainer import Trainer\n",
    "from src.util.data import get_interactions, get_sparsity_factor\n",
    "from src.util.plot import Plot\n",
    "\n",
    "plot = Plot()\n",
    "\n",
    "RATINGS_PATH = Path('../data/ratings_small.csv')\n",
    "OUTPUT_PATH = Path('../models/embedded_regression.pt')"
   ]
  }
 ],
 "metadata": {
  "kernelspec": {
   "display_name": "Python 3",
   "language": "python",
   "name": "python3"
  },
  "language_info": {
   "codemirror_mode": {
    "name": "ipython",
    "version": 3
   },
   "file_extension": ".py",
   "mimetype": "text/x-python",
   "name": "python",
   "nbconvert_exporter": "python",
   "pygments_lexer": "ipython3",
   "version": "3.8.5"
  }
 },
 "nbformat": 4,
 "nbformat_minor": 5
}
