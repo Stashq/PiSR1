{
  "nbformat": 4,
  "nbformat_minor": 0,
  "metadata": {
    "colab": {
      "name": "SR_z1_KNN.ipynb",
      "provenance": [],
      "collapsed_sections": []
    },
    "kernelspec": {
      "name": "python3",
      "display_name": "Python 3.7.8 64-bit ('env')",
      "metadata": {
        "interpreter": {
          "hash": "adefc96555cdd10e96549a1bd73444e92c6f3993b19384ed1aef2c3182327c63"
        }
      }
    }
  },
  "cells": [
    {
      "cell_type": "code",
      "metadata": {
        "id": "JMq_tRqVhiEq"
      },
      "source": [
        "%load_ext autoreload\n",
        "%autoreload 2\n",
        "\n",
        "import sys; sys.path.append('../')\n",
        "\n",
        "import os\n",
        "from abc import ABC\n",
        "from typing import List\n",
        "\n",
        "import numpy as np\n",
        "import pandas as pd\n",
        "import scipy\n",
        "import scipy.sparse\n",
        "import seaborn as sns\n",
        "import sklearn\n",
        "import sklearn.metrics\n",
        "import sklearn.model_selection\n",
        "import sklearn.neighbors\n",
        "from tqdm.auto import tqdm\n",
        "from src.models.recommender import RecommenderSystem\n",
        "from src.util.plot import Plot\n",
        "from pathlib import Path\n",
        "tqdm.pandas()\n",
        "\n",
        "\n",
        "plot = Plot()\n",
        "\n",
        "RATINGS_PATH = Path('../data/ratings_small.csv')\n",
        "MOVIES_PATH = Path('../data/movies_metadata.csv')\n",
        "OUTPUT_PATH = Path('../models/cb_knn.pickle')"
      ],
      "execution_count": null,
      "outputs": []
    },
    {
      "cell_type": "markdown",
      "metadata": {
        "id": "rgMPzx2or6bO"
      },
      "source": [
        "# data loading and overview"
      ]
    },
    {
      "cell_type": "code",
      "metadata": {
        "id": "LLAP-JathyOa"
      },
      "source": [
        "movies_metadata = pd.read_csv(MOVIES_PATH)\n",
        "# there are 3 bad records in columm \"id\", removing them:\n",
        "movies_metadata.id = pd.to_numeric(movies_metadata.id, errors='coerce')\n",
        "\n",
        "ratings = pd.read_csv(RATINGS_PATH)"
      ],
      "execution_count": null,
      "outputs": []
    },
    {
      "cell_type": "code",
      "metadata": {
        "colab": {
          "base_uri": "https://localhost:8080/",
          "height": 678
        },
        "id": "rIuRrzmXjmd5",
        "outputId": "086d369b-092f-4c0a-84d0-c64d0d3eb5b1"
      },
      "source": [
        "movies_metadata.head()"
      ],
      "execution_count": null,
      "outputs": []
    },
    {
      "cell_type": "code",
      "metadata": {
        "id": "N3X2EyGuh47x",
        "colab": {
          "base_uri": "https://localhost:8080/",
          "height": 206
        },
        "outputId": "fd0a7382-df75-4c6b-d519-dc682cf71457"
      },
      "source": [
        "# some dataset records + titles\n",
        "ratings.merge(movies_metadata[['id', 'title']], left_on='movieId', right_on='id').head()"
      ],
      "execution_count": null,
      "outputs": []
    },
    {
      "cell_type": "markdown",
      "metadata": {
        "id": "7T_xxW8lsDC3"
      },
      "source": [
        "# user-user collaborative KNN\n",
        "(not enough data for item-item KNN)"
      ]
    },
    {
      "cell_type": "code",
      "metadata": {
        "id": "cQQGs7hJgg9t"
      },
      "source": [
        "train_ratings, test_ratings = sklearn.model_selection.train_test_split(ratings,\n",
        "        test_size=1000,\n",
        "        random_state=42\n",
        "        )"
      ],
      "execution_count": null,
      "outputs": []
    },
    {
      "cell_type": "code",
      "metadata": {
        "colab": {
          "base_uri": "https://localhost:8080/",
          "height": 206
        },
        "id": "YI8CnYn2ofgu",
        "outputId": "02658434-0cab-443c-acda-09fc3594b180"
      },
      "source": [
        "train_ratings.head()"
      ],
      "execution_count": null,
      "outputs": []
    },
    {
      "cell_type": "code",
      "metadata": {
        "id": "PLbHy5IGFd8_"
      },
      "source": [
        "class KNNrecommender(ABC):\n",
        "    def __init__(self, data, value_name='rating', row_name='userId',\n",
        "                 col_name='movieId', metric='euclidean',):\n",
        "        super(KNNrecommender, self).__init__()\n",
        "        self.row_name = row_name\n",
        "        values = data[value_name].to_list()\n",
        "        row, column = data[row_name].to_list(), data[col_name].to_list()\n",
        "\n",
        "        self.sparse_ratings = scipy.sparse.coo_matrix((values, (row, column)))\n",
        "        self.knn = sklearn.neighbors.NearestNeighbors(n_neighbors=5,\n",
        "                                                      metric=metric)\n",
        "        self.knn.fit(self.sparse_ratings)\n",
        "\n",
        "    def predict(self, user_id: int) -> List[int]:\n",
        "        \"\"\"\n",
        "        Predicts ranking of movies to watch for a user.\n",
        "\n",
        "        Parameters\n",
        "        ----------\n",
        "        user_id : int\n",
        "            User's id from the data set.\n",
        "\n",
        "        Returns\n",
        "        -------\n",
        "        List[int]\n",
        "            List of movies ids. Best recommendations first.\n",
        "        \"\"\"\n",
        "        feature_vector = self.sparse_ratings.getrow(user_id)\n",
        "        distances, indexes = self.knn.kneighbors(feature_vector, 5)\n",
        "        recommended = []\n",
        "\n",
        "        for i in indexes[0][1:]:\n",
        "            K = 5\n",
        "            neighbour = self.sparse_ratings.getrow(i).toarray()[0]\n",
        "            # search for 5 best rated movies by neighbout among unseen ones\n",
        "            cols_to_consider = (\n",
        "                (feature_vector.toarray() == 0) & (neighbour != 0)\n",
        "                )[0]\n",
        "            cols_to_consider = np.arange(\n",
        "                len(cols_to_consider)\n",
        "                )[cols_to_consider]\n",
        "            # get the indexes of the best guesses\n",
        "            Kbest_from_cols_to_consider = np.argsort(\n",
        "                neighbour[cols_to_consider]\n",
        "                )[::-1][-K:]\n",
        "            Kbest_idxs_from_neighbour = \\\n",
        "                cols_to_consider[Kbest_from_cols_to_consider]\n",
        "\n",
        "            recommended.append(Kbest_idxs_from_neighbour)\n",
        "        return np.concatenate(recommended)\n",
        "\n",
        "    def predict_score(self, user_id: int, movie_id: int) -> float:\n",
        "        \"\"\"\n",
        "        Predicts score for a given movie that a user would give.\n",
        "\n",
        "        Parameters\n",
        "        ----------\n",
        "        user_id : int\n",
        "            User's id from the data set.\n",
        "        movie_id : int\n",
        "            Movie's id from the data set.\n",
        "\n",
        "        Returns\n",
        "        -------\n",
        "        float\n",
        "            Predicted movie's score in range [0.5, 5]\n",
        "        \"\"\"\n",
        "        # the 2 lines below make sure that this method works\n",
        "        # for both user-user and item-item filtering\n",
        "        j = movie_id if (self.row_name == 'userId') else user_id\n",
        "        row = user_id if (self.row_name == 'userId') else movie_id\n",
        "        # early stop if the movie was not present in training set\n",
        "        if self.sparse_ratings.getcol(j).toarray().sum() == 0:\n",
        "            return np.nan\n",
        "        # search for nearest neighbours in training set\n",
        "        distances, indexes = self.knn.kneighbors(\n",
        "            self.sparse_ratings.getrow(row), 100\n",
        "            )\n",
        "        # make a list of \"movie_id\" movie ratings abong neighbours\n",
        "        users_alike_ratings = np.stack(\n",
        "            [self.sparse_ratings.getrow(i).getcol(j).toarray()[0, 0]\n",
        "             for i in indexes[0]\n",
        "             ])\n",
        "        if sum(users_alike_ratings != 0) == 0:\n",
        "            return np.nan\n",
        "\n",
        "        # create weights based on calculated distance\n",
        "        weights = scipy.special.softmax(\n",
        "            -distances[0][users_alike_ratings != 0]\n",
        "            )\n",
        "        # calculate weighted rating for a movie\n",
        "        predicted_rating = \\\n",
        "            (weights * users_alike_ratings[users_alike_ratings != 0]).sum()\n",
        "        return predicted_rating"
      ],
      "execution_count": null,
      "outputs": []
    },
    {
      "cell_type": "code",
      "metadata": {
        "id": "t_p1-rlZJoMJ"
      },
      "source": [
        "user_user_RS = KNNrecommender(data=train_ratings, value_name='rating', row_name='userId', col_name='movieId', metric='euclidean')"
      ],
      "execution_count": null,
      "outputs": []
    },
    {
      "cell_type": "code",
      "metadata": {
        "colab": {
          "base_uri": "https://localhost:8080/"
        },
        "id": "uitm8n0MRGY7",
        "outputId": "a3f3ebd4-9af1-4199-c531-48f57c23db33"
      },
      "source": [
        "user_user_RS.predict(1)"
      ],
      "execution_count": null,
      "outputs": []
    },
    {
      "cell_type": "code",
      "metadata": {
        "colab": {
          "base_uri": "https://localhost:8080/"
        },
        "id": "qmh3dxDmN4lQ",
        "outputId": "122c9e71-0674-45eb-ffde-7ff34d204177"
      },
      "source": [
        "user_user_RS.predict_score(128,1028)"
      ],
      "execution_count": null,
      "outputs": []
    },
    {
      "cell_type": "code",
      "metadata": {
        "colab": {
          "base_uri": "https://localhost:8080/",
          "height": 424
        },
        "id": "8mRFtQgMg32g",
        "outputId": "3715f01f-3b90-40cf-c39c-4f69167bfdce"
      },
      "source": [
        "test_ratings"
      ],
      "execution_count": null,
      "outputs": []
    },
    {
      "cell_type": "code",
      "metadata": {
        "colab": {
          "base_uri": "https://localhost:8080/"
        },
        "id": "V-0O-jjCN-rO",
        "outputId": "0f62ca75-6f67-4d0b-ab18-bc49d2949262"
      },
      "source": [
        "test_ratings[:5].progress_apply(lambda x: user_user_RS.predict_score(x.userId, x.movieId), axis=1)"
      ],
      "execution_count": null,
      "outputs": []
    },
    {
      "cell_type": "code",
      "metadata": {
        "colab": {
          "base_uri": "https://localhost:8080/"
        },
        "id": "IjV0FoIacU-S",
        "outputId": "305b8f78-1b84-4387-c2f8-891e9ce16d87"
      },
      "source": [
        "for metric in ['euclidean', 'cosine', 'manhattan']:\n",
        "    user_user_RS = KNNrecommender(data=train_ratings, value_name='rating', row_name='userId', col_name='movieId', metric=metric)\n",
        "    test_ratings['preds_'+metric] = test_ratings.progress_apply(lambda x: user_user_RS.predict_score(x.userId, x.movieId), axis=1)"
      ],
      "execution_count": null,
      "outputs": []
    },
    {
      "cell_type": "code",
      "metadata": {
        "colab": {
          "base_uri": "https://localhost:8080/",
          "height": 1000
        },
        "id": "dmBGNmpPmQ9L",
        "outputId": "91d5e7b8-434a-4f6d-e356-6d8a21fc31fa"
      },
      "source": [
        "for metric in ['euclidean', 'cosine', 'manhattan']:\n",
        "    tmp_ratings = test_ratings[['rating', 'preds_'+metric]].dropna()\n",
        "    RMSE = (tmp_ratings['rating'] - tmp_ratings['preds_'+metric]).pow(2).mean()**0.5\n",
        "    sns.relplot(data=test_ratings, x='rating', y='preds_'+metric).set(title=f'correlation of predicted and ground truth ratings\\nbased on {metric} distance, RMSE={RMSE:1.2f}')"
      ],
      "execution_count": null,
      "outputs": []
    },
    {
      "cell_type": "code",
      "metadata": {
        "id": "vrnNVPijvgjx"
      },
      "source": [
        "test_ratings.to_csv('/content/drive/MyDrive/DANsem3/SR/KNNresults.csv', index=False)"
      ],
      "execution_count": null,
      "outputs": []
    },
    {
      "cell_type": "code",
      "metadata": {
        "id": "JI5tavYQOzJP"
      },
      "source": [
        "import pickle"
      ],
      "execution_count": null,
      "outputs": []
    },
    {
      "cell_type": "code",
      "metadata": {
        "id": "F6xlv6sVOw5F"
      },
      "source": [
        "for metric in ['euclidean', 'cosine', 'manhattan']:\n",
        "    user_user_RS = KNNrecommender(data=train_ratings, value_name='rating', row_name='userId', col_name='movieId', metric=metric)\n",
        "    \n",
        "    with open(f'../models/KNN_{metric}_metric.pickle', 'wb') as handle:\n",
        "        pickle.dump(user_user_RS, handle, protocol=pickle.HIGHEST_PROTOCOL)\n",
        "\n",
        "    # with open(f'models/KNN_{metric}_metric.pickle', 'rb') as handle:\n",
        "    #     b = pickle.load(handle)"
      ],
      "execution_count": null,
      "outputs": []
    }
  ]
}