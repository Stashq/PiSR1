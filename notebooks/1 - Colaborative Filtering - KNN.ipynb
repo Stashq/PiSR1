{
 "cells": [
  {
   "cell_type": "code",
   "execution_count": null,
   "metadata": {
    "id": "JMq_tRqVhiEq"
   },
   "outputs": [],
   "source": [
    "%load_ext autoreload\n",
    "%autoreload 2\n",
    "\n",
    "import sys; sys.path.append('../')\n",
    "\n",
    "import os\n",
    "from abc import ABC\n",
    "from typing import List, Tuple\n",
    "\n",
    "import numpy as np\n",
    "import pandas as pd\n",
    "import scipy\n",
    "import scipy.sparse\n",
    "import seaborn as sns\n",
    "import sklearn\n",
    "import sklearn.metrics\n",
    "import sklearn.model_selection\n",
    "import sklearn.neighbors\n",
    "from tqdm.auto import tqdm\n",
    "from src.models.recommender import RecommenderSystem\n",
    "from src.util.plot import Plot\n",
    "from pathlib import Path\n",
    "tqdm.pandas()\n",
    "\n",
    "\n",
    "plot = Plot()\n",
    "\n",
    "RATINGS_PATH = Path('../data/ratings_small.csv')\n",
    "MOVIES_PATH = Path('../data/movies_metadata.csv')\n",
    "OUTPUT_PATH = Path('../models/cb_knn.pickle')"
   ]
  },
  {
   "cell_type": "markdown",
   "metadata": {
    "id": "rgMPzx2or6bO"
   },
   "source": [
    "# data loading and overview"
   ]
  },
  {
   "cell_type": "code",
   "execution_count": null,
   "metadata": {
    "id": "LLAP-JathyOa"
   },
   "outputs": [],
   "source": [
    "movies_metadata = pd.read_csv(MOVIES_PATH)\n",
    "# there are 3 bad records in columm \"id\", removing them:\n",
    "movies_metadata.id = pd.to_numeric(movies_metadata.id, errors='coerce')\n",
    "\n",
    "ratings = pd.read_csv(RATINGS_PATH)"
   ]
  },
  {
   "cell_type": "code",
   "execution_count": null,
   "metadata": {
    "colab": {
     "base_uri": "https://localhost:8080/",
     "height": 678
    },
    "id": "rIuRrzmXjmd5",
    "outputId": "086d369b-092f-4c0a-84d0-c64d0d3eb5b1"
   },
   "outputs": [],
   "source": [
    "movies_metadata.head()"
   ]
  },
  {
   "cell_type": "code",
   "execution_count": null,
   "metadata": {
    "colab": {
     "base_uri": "https://localhost:8080/",
     "height": 206
    },
    "id": "N3X2EyGuh47x",
    "outputId": "fd0a7382-df75-4c6b-d519-dc682cf71457"
   },
   "outputs": [],
   "source": [
    "# some dataset records + titles\n",
    "ratings.merge(movies_metadata[['id', 'title']], left_on='movieId', right_on='id').head()"
   ]
  },
  {
   "cell_type": "markdown",
   "metadata": {
    "id": "7T_xxW8lsDC3"
   },
   "source": [
    "# user-user collaborative KNN\n",
    "(not enough data for item-item KNN)"
   ]
  },
  {
   "cell_type": "code",
   "execution_count": 42,
   "metadata": {
    "id": "cQQGs7hJgg9t"
   },
   "outputs": [],
   "source": [
    "train_ratings, test_ratings = sklearn.model_selection.train_test_split(ratings,\n",
    "        test_size=1000,\n",
    "        random_state=42\n",
    "        )"
   ]
  },
  {
   "cell_type": "code",
   "execution_count": 43,
   "metadata": {
    "colab": {
     "base_uri": "https://localhost:8080/",
     "height": 206
    },
    "id": "YI8CnYn2ofgu",
    "outputId": "02658434-0cab-443c-acda-09fc3594b180"
   },
   "outputs": [
    {
     "data": {
      "text/html": [
       "<div>\n",
       "<style scoped>\n",
       "    .dataframe tbody tr th:only-of-type {\n",
       "        vertical-align: middle;\n",
       "    }\n",
       "\n",
       "    .dataframe tbody tr th {\n",
       "        vertical-align: top;\n",
       "    }\n",
       "\n",
       "    .dataframe thead th {\n",
       "        text-align: right;\n",
       "    }\n",
       "</style>\n",
       "<table border=\"1\" class=\"dataframe\">\n",
       "  <thead>\n",
       "    <tr style=\"text-align: right;\">\n",
       "      <th></th>\n",
       "      <th>userId</th>\n",
       "      <th>movieId</th>\n",
       "      <th>rating</th>\n",
       "      <th>timestamp</th>\n",
       "    </tr>\n",
       "  </thead>\n",
       "  <tbody>\n",
       "    <tr>\n",
       "      <th>24079</th>\n",
       "      <td>173</td>\n",
       "      <td>107</td>\n",
       "      <td>3.0</td>\n",
       "      <td>875357448</td>\n",
       "    </tr>\n",
       "    <tr>\n",
       "      <th>22729</th>\n",
       "      <td>159</td>\n",
       "      <td>1911</td>\n",
       "      <td>1.0</td>\n",
       "      <td>1183518395</td>\n",
       "    </tr>\n",
       "    <tr>\n",
       "      <th>21590</th>\n",
       "      <td>150</td>\n",
       "      <td>1784</td>\n",
       "      <td>2.5</td>\n",
       "      <td>1114308739</td>\n",
       "    </tr>\n",
       "    <tr>\n",
       "      <th>41186</th>\n",
       "      <td>295</td>\n",
       "      <td>1517</td>\n",
       "      <td>4.0</td>\n",
       "      <td>1100129122</td>\n",
       "    </tr>\n",
       "    <tr>\n",
       "      <th>10926</th>\n",
       "      <td>73</td>\n",
       "      <td>4713</td>\n",
       "      <td>4.5</td>\n",
       "      <td>1409205919</td>\n",
       "    </tr>\n",
       "  </tbody>\n",
       "</table>\n",
       "</div>"
      ],
      "text/plain": [
       "       userId  movieId  rating   timestamp\n",
       "24079     173      107     3.0   875357448\n",
       "22729     159     1911     1.0  1183518395\n",
       "21590     150     1784     2.5  1114308739\n",
       "41186     295     1517     4.0  1100129122\n",
       "10926      73     4713     4.5  1409205919"
      ]
     },
     "execution_count": 43,
     "metadata": {},
     "output_type": "execute_result"
    }
   ],
   "source": [
    "train_ratings.head()"
   ]
  },
  {
   "cell_type": "code",
   "execution_count": 66,
   "metadata": {
    "id": "PLbHy5IGFd8_"
   },
   "outputs": [],
   "source": [
    "class KNNrecommender(ABC):\n",
    "    def __init__(self, data, value_name='rating', row_name='userId',\n",
    "                 col_name='movieId', metric='euclidean',):\n",
    "        super(KNNrecommender, self).__init__()\n",
    "        self.row_name = row_name\n",
    "        values = data[value_name].to_list()\n",
    "        row, column = data[row_name].to_list(), data[col_name].to_list()\n",
    "        \n",
    "        self.column_mapping_true_to_internal = {k:v for v,k in enumerate(list(set(column)))}\n",
    "        self.column_mapping = [i for i, k in enumerate(self.column_mapping_true_to_internal)]\n",
    "        \n",
    "        column = [self.column_mapping_true_to_internal[i] for i in column]\n",
    "\n",
    "        self.sparse_ratings = scipy.sparse.coo_matrix((values, (row, column)))\n",
    "        self.knn = sklearn.neighbors.NearestNeighbors(n_neighbors=5,\n",
    "                                                      metric=metric)\n",
    "        self.knn.fit(self.sparse_ratings)\n",
    "\n",
    "    def predict(self, user_id: int) -> List[int]:\n",
    "        \"\"\"\n",
    "        Predicts ranking of movies to watch for a user.\n",
    "\n",
    "        Parameters\n",
    "        ----------\n",
    "        user_id : int\n",
    "            User's id from the data set.\n",
    "\n",
    "        Returns\n",
    "        -------\n",
    "        List[int]\n",
    "            List of movies ids. Best recommendations first.\n",
    "        \"\"\"\n",
    "        feature_vector = self.sparse_ratings.getrow(user_id)\n",
    "        distances, indexes = self.knn.kneighbors(feature_vector, 5)\n",
    "        recommended = []\n",
    "\n",
    "        for i in indexes[0][1:]:\n",
    "            K = 5\n",
    "            neighbour = self.sparse_ratings.getrow(i).toarray()[0]\n",
    "            # search for 5 best rated movies by neighbout among unseen ones\n",
    "            cols_to_consider = (\n",
    "                (feature_vector.toarray() == 0) & (neighbour != 0)\n",
    "                )[0]\n",
    "            cols_to_consider = np.arange(\n",
    "                len(cols_to_consider)\n",
    "                )[cols_to_consider]\n",
    "            # get the indexes of the best guesses\n",
    "            Kbest_from_cols_to_consider = np.argsort(\n",
    "                neighbour[cols_to_consider]\n",
    "                )[::-1][-K:]\n",
    "            Kbest_idxs_from_neighbour = \\\n",
    "                cols_to_consider[Kbest_from_cols_to_consider]\n",
    "\n",
    "            recommended.append(Kbest_idxs_from_neighbour)\n",
    "        mapped_ids = [self.column_mapping[i] for i in np.concatenate(recommended)]\n",
    "        return np.array(mapped_ids)\n",
    "\n",
    "    def predict_score(self, user_id: int, movie_id: int) -> float:\n",
    "        \"\"\"\n",
    "        Predicts score for a given movie that a user would give.\n",
    "\n",
    "        Parameters\n",
    "        ----------\n",
    "        user_id : int\n",
    "            User's id from the data set.\n",
    "        movie_id : int\n",
    "            Movie's id from the data set.\n",
    "\n",
    "        Returns\n",
    "        -------\n",
    "        float\n",
    "            Predicted movie's score in range [0.5, 5]\n",
    "        \"\"\"\n",
    "        # the 2 lines below make sure that this method works\n",
    "        # for both user-user and item-item filtering\n",
    "        j = movie_id if (self.row_name == 'userId') else user_id\n",
    "        j = self.column_mapping_true_to_internal[j]\n",
    "        row = user_id if (self.row_name == 'userId') else movie_id\n",
    "        # early stop if the movie was not present in training set\n",
    "        if self.sparse_ratings.getcol(j).toarray().sum() == 0:\n",
    "            return np.nan\n",
    "        # search for nearest neighbours in training set\n",
    "        distances, indexes = self.knn.kneighbors(\n",
    "            self.sparse_ratings.getrow(row), 100\n",
    "            )\n",
    "        # make a list of \"movie_id\" movie ratings abong neighbours\n",
    "        users_alike_ratings = np.stack(\n",
    "            [self.sparse_ratings.getrow(i).getcol(j).toarray()[0, 0]\n",
    "             for i in indexes[0]\n",
    "             ])\n",
    "        if sum(users_alike_ratings != 0) == 0:\n",
    "            return np.nan\n",
    "\n",
    "        # create weights based on calculated distance\n",
    "        weights = scipy.special.softmax(\n",
    "            -distances[0][users_alike_ratings != 0]\n",
    "            )\n",
    "        # calculate weighted rating for a movie\n",
    "        predicted_rating = \\\n",
    "            (weights * users_alike_ratings[users_alike_ratings != 0]).sum()\n",
    "        return predicted_rating\n",
    "\n",
    "    def predict_scores(self, user_id: int) -> Tuple[np.ndarray, np.ndarray]:\n",
    "        \"\"\"\n",
    "        Predicts scores for all the movies, that a user would give.\n",
    "        Parameters\n",
    "        ----------\n",
    "        user_id : int\n",
    "            User's id from the data set.\n",
    "        Returns\n",
    "        -------\n",
    "        Tuple[np.ndarray, np.ndarray]:\n",
    "            Ranked movies with their scores.\n",
    "        \"\"\"\n",
    "        #j = movie_id if (self.row_name == 'userId') else user_id\n",
    "        row = user_id #if (self.row_name == 'userId') else movie_id\n",
    "\n",
    "        # if self.sparse_ratings.getcol(j).toarray().sum() == 0:\n",
    "        #     return np.nan\n",
    "\n",
    "        distances, indexes = self.knn.kneighbors(\n",
    "            self.sparse_ratings.getrow(row), 100\n",
    "            )\n",
    "\n",
    "        \n",
    "        predicted_ratings = []\n",
    "        \n",
    "        for j in range(self.sparse_ratings.shape[1]):\n",
    "            users_alike_ratings = np.stack(\n",
    "                [self.sparse_ratings.getrow(i).getcol(j).toarray()[0, 0]\n",
    "                 for i in indexes[0]\n",
    "                 ])\n",
    "            if sum(users_alike_ratings != 0) == 0:\n",
    "                predicted_ratings.append(np.nan)\n",
    "                continue\n",
    "\n",
    "            # create weights based on calculated distance\n",
    "            weights = scipy.special.softmax(\n",
    "                -distances[0][users_alike_ratings != 0]\n",
    "                )\n",
    "            # calculate weighted rating for a movie\n",
    "            predicted_rating = \\\n",
    "                (weights * users_alike_ratings[users_alike_ratings != 0]).sum()\n",
    "            predicted_ratings.append(predicted_rating)\n",
    "        predicted_ratings = np.array(predicted_ratings)\n",
    "        # print(predicted_ratings)\n",
    "        \n",
    "        movies = np.arange(self.sparse_ratings.shape[1])\n",
    "\n",
    "        ranking = pd.DataFrame(\n",
    "            zip(movies, predicted_ratings),\n",
    "            columns=['movie', 'rating']\n",
    "        )\n",
    "\n",
    "        ranking = ranking.sort_values(\n",
    "            by='rating',\n",
    "            ascending=False\n",
    "        )\n",
    "\n",
    "        movies = ranking['movie'].values\n",
    "        ratings = ranking['rating'].values\n",
    "        \n",
    "        mapped_ids = [self.column_mapping[i] for i in movies]\n",
    "\n",
    "        return mapped_ids, ratings"
   ]
  },
  {
   "cell_type": "code",
   "execution_count": 67,
   "metadata": {
    "id": "t_p1-rlZJoMJ"
   },
   "outputs": [],
   "source": [
    "user_user_RS = KNNrecommender(data=train_ratings, value_name='rating', row_name='userId', col_name='movieId', metric='euclidean')"
   ]
  },
  {
   "cell_type": "code",
   "execution_count": 68,
   "metadata": {
    "colab": {
     "base_uri": "https://localhost:8080/"
    },
    "id": "uitm8n0MRGY7",
    "outputId": "a3f3ebd4-9af1-4199-c531-48f57c23db33"
   },
   "outputs": [
    {
     "data": {
      "text/plain": [
       "array([ 909,  808,  658,  263, 1374, 1812, 1628, 1481,   86,   63,  931,\n",
       "        808,  216, 1124, 1047])"
      ]
     },
     "execution_count": 68,
     "metadata": {},
     "output_type": "execute_result"
    }
   ],
   "source": [
    "user_user_RS.predict(1)"
   ]
  },
  {
   "cell_type": "code",
   "execution_count": 69,
   "metadata": {},
   "outputs": [
    {
     "data": {
      "application/vnd.jupyter.widget-view+json": {
       "model_id": "46c6150d903b480c9ab94704e12582b2",
       "version_major": 2,
       "version_minor": 0
      },
      "text/plain": [
       "HBox(children=(HTML(value=''), FloatProgress(value=0.0, max=9029.0), HTML(value='')))"
      ]
     },
     "metadata": {},
     "output_type": "display_data"
    },
    {
     "name": "stdout",
     "output_type": "stream",
     "text": [
      "\n"
     ]
    },
    {
     "ename": "KeyboardInterrupt",
     "evalue": "",
     "output_type": "error",
     "traceback": [
      "\u001b[0;31m---------------------------------------------------------------------------\u001b[0m",
      "\u001b[0;31mKeyboardInterrupt\u001b[0m                         Traceback (most recent call last)",
      "\u001b[0;32m<ipython-input-69-0710d007a459>\u001b[0m in \u001b[0;36m<module>\u001b[0;34m\u001b[0m\n\u001b[0;32m----> 1\u001b[0;31m \u001b[0muser_user_RS\u001b[0m\u001b[0;34m.\u001b[0m\u001b[0mpredict_scores\u001b[0m\u001b[0;34m(\u001b[0m\u001b[0;36m123\u001b[0m\u001b[0;34m)\u001b[0m\u001b[0;34m\u001b[0m\u001b[0;34m\u001b[0m\u001b[0m\n\u001b[0m",
      "\u001b[0;32m<ipython-input-66-ae0555269250>\u001b[0m in \u001b[0;36mpredict_scores\u001b[0;34m(self, user_id)\u001b[0m\n\u001b[1;32m    128\u001b[0m         \u001b[0;32mfor\u001b[0m \u001b[0mj\u001b[0m \u001b[0;32min\u001b[0m \u001b[0mtqdm\u001b[0m\u001b[0;34m(\u001b[0m\u001b[0mrange\u001b[0m\u001b[0;34m(\u001b[0m\u001b[0mself\u001b[0m\u001b[0;34m.\u001b[0m\u001b[0msparse_ratings\u001b[0m\u001b[0;34m.\u001b[0m\u001b[0mshape\u001b[0m\u001b[0;34m[\u001b[0m\u001b[0;36m1\u001b[0m\u001b[0;34m]\u001b[0m\u001b[0;34m)\u001b[0m\u001b[0;34m)\u001b[0m\u001b[0;34m:\u001b[0m\u001b[0;34m\u001b[0m\u001b[0;34m\u001b[0m\u001b[0m\n\u001b[1;32m    129\u001b[0m             users_alike_ratings = np.stack(\n\u001b[0;32m--> 130\u001b[0;31m                 [self.sparse_ratings.getrow(i).getcol(j).toarray()[0, 0]\n\u001b[0m\u001b[1;32m    131\u001b[0m                  \u001b[0;32mfor\u001b[0m \u001b[0mi\u001b[0m \u001b[0;32min\u001b[0m \u001b[0mindexes\u001b[0m\u001b[0;34m[\u001b[0m\u001b[0;36m0\u001b[0m\u001b[0;34m]\u001b[0m\u001b[0;34m\u001b[0m\u001b[0;34m\u001b[0m\u001b[0m\n\u001b[1;32m    132\u001b[0m                  ])\n",
      "\u001b[0;32m<ipython-input-66-ae0555269250>\u001b[0m in \u001b[0;36m<listcomp>\u001b[0;34m(.0)\u001b[0m\n\u001b[1;32m    128\u001b[0m         \u001b[0;32mfor\u001b[0m \u001b[0mj\u001b[0m \u001b[0;32min\u001b[0m \u001b[0mtqdm\u001b[0m\u001b[0;34m(\u001b[0m\u001b[0mrange\u001b[0m\u001b[0;34m(\u001b[0m\u001b[0mself\u001b[0m\u001b[0;34m.\u001b[0m\u001b[0msparse_ratings\u001b[0m\u001b[0;34m.\u001b[0m\u001b[0mshape\u001b[0m\u001b[0;34m[\u001b[0m\u001b[0;36m1\u001b[0m\u001b[0;34m]\u001b[0m\u001b[0;34m)\u001b[0m\u001b[0;34m)\u001b[0m\u001b[0;34m:\u001b[0m\u001b[0;34m\u001b[0m\u001b[0;34m\u001b[0m\u001b[0m\n\u001b[1;32m    129\u001b[0m             users_alike_ratings = np.stack(\n\u001b[0;32m--> 130\u001b[0;31m                 [self.sparse_ratings.getrow(i).getcol(j).toarray()[0, 0]\n\u001b[0m\u001b[1;32m    131\u001b[0m                  \u001b[0;32mfor\u001b[0m \u001b[0mi\u001b[0m \u001b[0;32min\u001b[0m \u001b[0mindexes\u001b[0m\u001b[0;34m[\u001b[0m\u001b[0;36m0\u001b[0m\u001b[0;34m]\u001b[0m\u001b[0;34m\u001b[0m\u001b[0;34m\u001b[0m\u001b[0m\n\u001b[1;32m    132\u001b[0m                  ])\n",
      "\u001b[0;32m~/.local/lib/python3.8/site-packages/scipy/sparse/base.py\u001b[0m in \u001b[0;36mgetrow\u001b[0;34m(self, i)\u001b[0m\n\u001b[1;32m    810\u001b[0m         row_selector = csr_matrix(([1], [[0], [i]]),\n\u001b[1;32m    811\u001b[0m                                   shape=(1, m), dtype=self.dtype)\n\u001b[0;32m--> 812\u001b[0;31m         \u001b[0;32mreturn\u001b[0m \u001b[0mrow_selector\u001b[0m \u001b[0;34m*\u001b[0m \u001b[0mself\u001b[0m\u001b[0;34m\u001b[0m\u001b[0;34m\u001b[0m\u001b[0m\n\u001b[0m\u001b[1;32m    813\u001b[0m \u001b[0;34m\u001b[0m\u001b[0m\n\u001b[1;32m    814\u001b[0m     \u001b[0;31m# def __array__(self):\u001b[0m\u001b[0;34m\u001b[0m\u001b[0;34m\u001b[0m\u001b[0;34m\u001b[0m\u001b[0m\n",
      "\u001b[0;32m~/.local/lib/python3.8/site-packages/scipy/sparse/base.py\u001b[0m in \u001b[0;36m__mul__\u001b[0;34m(self, other)\u001b[0m\n\u001b[1;32m    478\u001b[0m             \u001b[0;32mif\u001b[0m \u001b[0mself\u001b[0m\u001b[0;34m.\u001b[0m\u001b[0mshape\u001b[0m\u001b[0;34m[\u001b[0m\u001b[0;36m1\u001b[0m\u001b[0;34m]\u001b[0m \u001b[0;34m!=\u001b[0m \u001b[0mother\u001b[0m\u001b[0;34m.\u001b[0m\u001b[0mshape\u001b[0m\u001b[0;34m[\u001b[0m\u001b[0;36m0\u001b[0m\u001b[0;34m]\u001b[0m\u001b[0;34m:\u001b[0m\u001b[0;34m\u001b[0m\u001b[0;34m\u001b[0m\u001b[0m\n\u001b[1;32m    479\u001b[0m                 \u001b[0;32mraise\u001b[0m \u001b[0mValueError\u001b[0m\u001b[0;34m(\u001b[0m\u001b[0;34m'dimension mismatch'\u001b[0m\u001b[0;34m)\u001b[0m\u001b[0;34m\u001b[0m\u001b[0;34m\u001b[0m\u001b[0m\n\u001b[0;32m--> 480\u001b[0;31m             \u001b[0;32mreturn\u001b[0m \u001b[0mself\u001b[0m\u001b[0;34m.\u001b[0m\u001b[0m_mul_sparse_matrix\u001b[0m\u001b[0;34m(\u001b[0m\u001b[0mother\u001b[0m\u001b[0;34m)\u001b[0m\u001b[0;34m\u001b[0m\u001b[0;34m\u001b[0m\u001b[0m\n\u001b[0m\u001b[1;32m    481\u001b[0m \u001b[0;34m\u001b[0m\u001b[0m\n\u001b[1;32m    482\u001b[0m         \u001b[0;31m# If it's a list or whatever, treat it like a matrix\u001b[0m\u001b[0;34m\u001b[0m\u001b[0;34m\u001b[0m\u001b[0;34m\u001b[0m\u001b[0m\n",
      "\u001b[0;32m~/.local/lib/python3.8/site-packages/scipy/sparse/compressed.py\u001b[0m in \u001b[0;36m_mul_sparse_matrix\u001b[0;34m(self, other)\u001b[0m\n\u001b[1;32m    497\u001b[0m \u001b[0;34m\u001b[0m\u001b[0m\n\u001b[1;32m    498\u001b[0m         \u001b[0mmajor_axis\u001b[0m \u001b[0;34m=\u001b[0m \u001b[0mself\u001b[0m\u001b[0;34m.\u001b[0m\u001b[0m_swap\u001b[0m\u001b[0;34m(\u001b[0m\u001b[0;34m(\u001b[0m\u001b[0mM\u001b[0m\u001b[0;34m,\u001b[0m \u001b[0mN\u001b[0m\u001b[0;34m)\u001b[0m\u001b[0;34m)\u001b[0m\u001b[0;34m[\u001b[0m\u001b[0;36m0\u001b[0m\u001b[0;34m]\u001b[0m\u001b[0;34m\u001b[0m\u001b[0;34m\u001b[0m\u001b[0m\n\u001b[0;32m--> 499\u001b[0;31m         \u001b[0mother\u001b[0m \u001b[0;34m=\u001b[0m \u001b[0mself\u001b[0m\u001b[0;34m.\u001b[0m\u001b[0m__class__\u001b[0m\u001b[0;34m(\u001b[0m\u001b[0mother\u001b[0m\u001b[0;34m)\u001b[0m  \u001b[0;31m# convert to this format\u001b[0m\u001b[0;34m\u001b[0m\u001b[0;34m\u001b[0m\u001b[0m\n\u001b[0m\u001b[1;32m    500\u001b[0m \u001b[0;34m\u001b[0m\u001b[0m\n\u001b[1;32m    501\u001b[0m         idx_dtype = get_index_dtype((self.indptr, self.indices,\n",
      "\u001b[0;32m~/.local/lib/python3.8/site-packages/scipy/sparse/compressed.py\u001b[0m in \u001b[0;36m__init__\u001b[0;34m(self, arg1, shape, dtype, copy)\u001b[0m\n\u001b[1;32m     32\u001b[0m                 \u001b[0marg1\u001b[0m \u001b[0;34m=\u001b[0m \u001b[0marg1\u001b[0m\u001b[0;34m.\u001b[0m\u001b[0mcopy\u001b[0m\u001b[0;34m(\u001b[0m\u001b[0;34m)\u001b[0m\u001b[0;34m\u001b[0m\u001b[0;34m\u001b[0m\u001b[0m\n\u001b[1;32m     33\u001b[0m             \u001b[0;32melse\u001b[0m\u001b[0;34m:\u001b[0m\u001b[0;34m\u001b[0m\u001b[0;34m\u001b[0m\u001b[0m\n\u001b[0;32m---> 34\u001b[0;31m                 \u001b[0marg1\u001b[0m \u001b[0;34m=\u001b[0m \u001b[0marg1\u001b[0m\u001b[0;34m.\u001b[0m\u001b[0masformat\u001b[0m\u001b[0;34m(\u001b[0m\u001b[0mself\u001b[0m\u001b[0;34m.\u001b[0m\u001b[0mformat\u001b[0m\u001b[0;34m)\u001b[0m\u001b[0;34m\u001b[0m\u001b[0;34m\u001b[0m\u001b[0m\n\u001b[0m\u001b[1;32m     35\u001b[0m             \u001b[0mself\u001b[0m\u001b[0;34m.\u001b[0m\u001b[0m_set_self\u001b[0m\u001b[0;34m(\u001b[0m\u001b[0marg1\u001b[0m\u001b[0;34m)\u001b[0m\u001b[0;34m\u001b[0m\u001b[0;34m\u001b[0m\u001b[0m\n\u001b[1;32m     36\u001b[0m \u001b[0;34m\u001b[0m\u001b[0m\n",
      "\u001b[0;32m~/.local/lib/python3.8/site-packages/scipy/sparse/base.py\u001b[0m in \u001b[0;36masformat\u001b[0;34m(self, format, copy)\u001b[0m\n\u001b[1;32m    320\u001b[0m             \u001b[0;31m# Forward the copy kwarg, if it's accepted.\u001b[0m\u001b[0;34m\u001b[0m\u001b[0;34m\u001b[0m\u001b[0;34m\u001b[0m\u001b[0m\n\u001b[1;32m    321\u001b[0m             \u001b[0;32mtry\u001b[0m\u001b[0;34m:\u001b[0m\u001b[0;34m\u001b[0m\u001b[0;34m\u001b[0m\u001b[0m\n\u001b[0;32m--> 322\u001b[0;31m                 \u001b[0;32mreturn\u001b[0m \u001b[0mconvert_method\u001b[0m\u001b[0;34m(\u001b[0m\u001b[0mcopy\u001b[0m\u001b[0;34m=\u001b[0m\u001b[0mcopy\u001b[0m\u001b[0;34m)\u001b[0m\u001b[0;34m\u001b[0m\u001b[0;34m\u001b[0m\u001b[0m\n\u001b[0m\u001b[1;32m    323\u001b[0m             \u001b[0;32mexcept\u001b[0m \u001b[0mTypeError\u001b[0m\u001b[0;34m:\u001b[0m\u001b[0;34m\u001b[0m\u001b[0;34m\u001b[0m\u001b[0m\n\u001b[1;32m    324\u001b[0m                 \u001b[0;32mreturn\u001b[0m \u001b[0mconvert_method\u001b[0m\u001b[0;34m(\u001b[0m\u001b[0;34m)\u001b[0m\u001b[0;34m\u001b[0m\u001b[0;34m\u001b[0m\u001b[0m\n",
      "\u001b[0;32m~/.local/lib/python3.8/site-packages/scipy/sparse/coo.py\u001b[0m in \u001b[0;36mtocsr\u001b[0;34m(self, copy)\u001b[0m\n\u001b[1;32m    409\u001b[0m             \u001b[0mx\u001b[0m \u001b[0;34m=\u001b[0m \u001b[0mcsr_matrix\u001b[0m\u001b[0;34m(\u001b[0m\u001b[0;34m(\u001b[0m\u001b[0mdata\u001b[0m\u001b[0;34m,\u001b[0m \u001b[0mindices\u001b[0m\u001b[0;34m,\u001b[0m \u001b[0mindptr\u001b[0m\u001b[0;34m)\u001b[0m\u001b[0;34m,\u001b[0m \u001b[0mshape\u001b[0m\u001b[0;34m=\u001b[0m\u001b[0mself\u001b[0m\u001b[0;34m.\u001b[0m\u001b[0mshape\u001b[0m\u001b[0;34m)\u001b[0m\u001b[0;34m\u001b[0m\u001b[0;34m\u001b[0m\u001b[0m\n\u001b[1;32m    410\u001b[0m             \u001b[0;32mif\u001b[0m \u001b[0;32mnot\u001b[0m \u001b[0mself\u001b[0m\u001b[0;34m.\u001b[0m\u001b[0mhas_canonical_format\u001b[0m\u001b[0;34m:\u001b[0m\u001b[0;34m\u001b[0m\u001b[0;34m\u001b[0m\u001b[0m\n\u001b[0;32m--> 411\u001b[0;31m                 \u001b[0mx\u001b[0m\u001b[0;34m.\u001b[0m\u001b[0msum_duplicates\u001b[0m\u001b[0;34m(\u001b[0m\u001b[0;34m)\u001b[0m\u001b[0;34m\u001b[0m\u001b[0;34m\u001b[0m\u001b[0m\n\u001b[0m\u001b[1;32m    412\u001b[0m             \u001b[0;32mreturn\u001b[0m \u001b[0mx\u001b[0m\u001b[0;34m\u001b[0m\u001b[0;34m\u001b[0m\u001b[0m\n\u001b[1;32m    413\u001b[0m \u001b[0;34m\u001b[0m\u001b[0m\n",
      "\u001b[0;32m~/.local/lib/python3.8/site-packages/scipy/sparse/compressed.py\u001b[0m in \u001b[0;36msum_duplicates\u001b[0;34m(self)\u001b[0m\n\u001b[1;32m   1096\u001b[0m \u001b[0;34m\u001b[0m\u001b[0m\n\u001b[1;32m   1097\u001b[0m         \u001b[0mM\u001b[0m\u001b[0;34m,\u001b[0m \u001b[0mN\u001b[0m \u001b[0;34m=\u001b[0m \u001b[0mself\u001b[0m\u001b[0;34m.\u001b[0m\u001b[0m_swap\u001b[0m\u001b[0;34m(\u001b[0m\u001b[0mself\u001b[0m\u001b[0;34m.\u001b[0m\u001b[0mshape\u001b[0m\u001b[0;34m)\u001b[0m\u001b[0;34m\u001b[0m\u001b[0;34m\u001b[0m\u001b[0m\n\u001b[0;32m-> 1098\u001b[0;31m         _sparsetools.csr_sum_duplicates(M, N, self.indptr, self.indices,\n\u001b[0m\u001b[1;32m   1099\u001b[0m                                         self.data)\n\u001b[1;32m   1100\u001b[0m \u001b[0;34m\u001b[0m\u001b[0m\n",
      "\u001b[0;31mKeyboardInterrupt\u001b[0m: "
     ]
    }
   ],
   "source": [
    "user_user_RS.predict_scores(123)"
   ]
  },
  {
   "cell_type": "code",
   "execution_count": 18,
   "metadata": {
    "colab": {
     "base_uri": "https://localhost:8080/"
    },
    "id": "qmh3dxDmN4lQ",
    "outputId": "122c9e71-0674-45eb-ffde-7ff34d204177"
   },
   "outputs": [
    {
     "ename": "TypeError",
     "evalue": "cannot unpack non-iterable float object",
     "output_type": "error",
     "traceback": [
      "\u001b[0;31m---------------------------------------------------------------------------\u001b[0m",
      "\u001b[0;31mTypeError\u001b[0m                                 Traceback (most recent call last)",
      "\u001b[0;32m<ipython-input-18-828a2387842c>\u001b[0m in \u001b[0;36m<module>\u001b[0;34m\u001b[0m\n\u001b[0;32m----> 1\u001b[0;31m \u001b[0mm\u001b[0m\u001b[0;34m,\u001b[0m \u001b[0mr\u001b[0m \u001b[0;34m=\u001b[0m\u001b[0muser_user_RS\u001b[0m\u001b[0;34m.\u001b[0m\u001b[0mpredict_scores\u001b[0m\u001b[0;34m(\u001b[0m\u001b[0;36m128\u001b[0m\u001b[0;34m)\u001b[0m\u001b[0;34m\u001b[0m\u001b[0;34m\u001b[0m\u001b[0m\n\u001b[0m\u001b[1;32m      2\u001b[0m \u001b[0mm\u001b[0m\u001b[0;34m.\u001b[0m\u001b[0mshape\u001b[0m\u001b[0;34m,\u001b[0m \u001b[0mr\u001b[0m\u001b[0;34m.\u001b[0m\u001b[0mshape\u001b[0m\u001b[0;34m\u001b[0m\u001b[0;34m\u001b[0m\u001b[0m\n",
      "\u001b[0;31mTypeError\u001b[0m: cannot unpack non-iterable float object"
     ]
    }
   ],
   "source": [
    "m, r =user_user_RS.predict_scores(128)\n",
    "m.shape, r.shape"
   ]
  },
  {
   "cell_type": "code",
   "execution_count": null,
   "metadata": {
    "colab": {
     "base_uri": "https://localhost:8080/",
     "height": 424
    },
    "id": "8mRFtQgMg32g",
    "outputId": "3715f01f-3b90-40cf-c39c-4f69167bfdce"
   },
   "outputs": [],
   "source": [
    "test_ratings"
   ]
  },
  {
   "cell_type": "code",
   "execution_count": null,
   "metadata": {
    "colab": {
     "base_uri": "https://localhost:8080/"
    },
    "id": "V-0O-jjCN-rO",
    "outputId": "0f62ca75-6f67-4d0b-ab18-bc49d2949262"
   },
   "outputs": [],
   "source": [
    "test_ratings[:5].progress_apply(lambda x: user_user_RS.predict_score(x.userId, x.movieId), axis=1)"
   ]
  },
  {
   "cell_type": "code",
   "execution_count": null,
   "metadata": {
    "colab": {
     "base_uri": "https://localhost:8080/"
    },
    "id": "IjV0FoIacU-S",
    "outputId": "305b8f78-1b84-4387-c2f8-891e9ce16d87"
   },
   "outputs": [],
   "source": [
    "for metric in ['euclidean', 'cosine', 'manhattan']:\n",
    "    user_user_RS = KNNrecommender(data=train_ratings, value_name='rating', row_name='userId', col_name='movieId', metric=metric)\n",
    "    test_ratings['preds_'+metric] = test_ratings.progress_apply(lambda x: user_user_RS.predict_score(x.userId, x.movieId), axis=1)"
   ]
  },
  {
   "cell_type": "code",
   "execution_count": null,
   "metadata": {
    "colab": {
     "base_uri": "https://localhost:8080/",
     "height": 1000
    },
    "id": "dmBGNmpPmQ9L",
    "outputId": "91d5e7b8-434a-4f6d-e356-6d8a21fc31fa"
   },
   "outputs": [],
   "source": [
    "for metric in ['euclidean', 'cosine', 'manhattan']:\n",
    "    tmp_ratings = test_ratings[['rating', 'preds_'+metric]].dropna()\n",
    "    RMSE = (tmp_ratings['rating'] - tmp_ratings['preds_'+metric]).pow(2).mean()**0.5\n",
    "    sns.relplot(data=test_ratings, x='rating', y='preds_'+metric).set(title=f'correlation of predicted and ground truth ratings\\nbased on {metric} distance, RMSE={RMSE:1.2f}')"
   ]
  },
  {
   "cell_type": "code",
   "execution_count": null,
   "metadata": {
    "id": "vrnNVPijvgjx"
   },
   "outputs": [],
   "source": [
    "test_ratings.to_csv('/content/drive/MyDrive/DANsem3/SR/KNNresults.csv', index=False)"
   ]
  },
  {
   "cell_type": "code",
   "execution_count": null,
   "metadata": {
    "id": "JI5tavYQOzJP"
   },
   "outputs": [],
   "source": [
    "import pickle"
   ]
  },
  {
   "cell_type": "code",
   "execution_count": null,
   "metadata": {
    "id": "F6xlv6sVOw5F"
   },
   "outputs": [],
   "source": [
    "for metric in ['euclidean', 'cosine', 'manhattan']:\n",
    "    user_user_RS = KNNrecommender(data=train_ratings, value_name='rating', row_name='userId', col_name='movieId', metric=metric)\n",
    "    \n",
    "    with open(f'../models/KNN_{metric}_metric.pickle', 'wb') as handle:\n",
    "        pickle.dump(user_user_RS, handle, protocol=pickle.HIGHEST_PROTOCOL)\n",
    "\n",
    "    # with open(f'models/KNN_{metric}_metric.pickle', 'rb') as handle:\n",
    "    #     b = pickle.load(handle)"
   ]
  },
  {
   "cell_type": "markdown",
   "metadata": {},
   "source": [
    "## Tests"
   ]
  },
  {
   "cell_type": "code",
   "execution_count": null,
   "metadata": {},
   "outputs": [],
   "source": [
    "model = KNNrecommender(data=train_ratings, value_name='rating', row_name='userId', col_name='movieId', metric='cosine')"
   ]
  },
  {
   "cell_type": "code",
   "execution_count": null,
   "metadata": {},
   "outputs": [],
   "source": [
    "_, scores = model.predict_scores(2)\n",
    "plot.histogram(\n",
    "    x=scores,\n",
    "    title=f'Recommended movie ratings for user_id: {2}',\n",
    "    xaxis_title='Rating',\n",
    "    yaxis_title='Count'\n",
    ")"
   ]
  },
  {
   "cell_type": "code",
   "execution_count": null,
   "metadata": {},
   "outputs": [],
   "source": [
    "jaccard_ranking = get_jaccard_ranking(model, test_ratings)\n",
    "plot.histogram(\n",
    "    x=jaccard_ranking,\n",
    "    title='Jaccard index per each user ranking (liked_movie >= 3.5)',\n",
    "    xaxis_title='Jaccard index',\n",
    "    yaxis_title='Count'\n",
    ")"
   ]
  },
  {
   "cell_type": "code",
   "execution_count": null,
   "metadata": {},
   "outputs": [],
   "source": [
    "classification_metrics = get_classification_ranking_metrics(model, test_ratings)\n",
    "plot.bar(\n",
    "    classification_metrics,\n",
    "    title='Classification metrics',\n",
    "    xaxis_title='Metrics',\n",
    "    yaxis_title='Score'\n",
    ")"
   ]
  },
  {
   "cell_type": "code",
   "execution_count": null,
   "metadata": {},
   "outputs": [],
   "source": [
    "r2_score = get_r2_score(model, test_ratings)\n",
    "print(f'\\n\\nr2 score: {r2_score:.3f}')"
   ]
  },
  {
   "cell_type": "code",
   "execution_count": null,
   "metadata": {},
   "outputs": [],
   "source": []
  }
 ],
 "metadata": {
  "colab": {
   "collapsed_sections": [],
   "name": "SR_z1_KNN.ipynb",
   "provenance": []
  },
  "kernelspec": {
   "display_name": "Python 3",
   "language": "python",
   "name": "python3"
  },
  "language_info": {
   "codemirror_mode": {
    "name": "ipython",
    "version": 3
   },
   "file_extension": ".py",
   "mimetype": "text/x-python",
   "name": "python",
   "nbconvert_exporter": "python",
   "pygments_lexer": "ipython3",
   "version": "3.8.5"
  }
 },
 "nbformat": 4,
 "nbformat_minor": 4
}
