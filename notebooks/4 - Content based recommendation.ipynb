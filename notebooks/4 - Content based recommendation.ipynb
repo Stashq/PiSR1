{
 "cells": [
  {
   "cell_type": "code",
   "execution_count": 12,
   "id": "packed-printer",
   "metadata": {},
   "outputs": [
    {
     "data": {
      "text/plain": [
       "device(type='cuda')"
      ]
     },
     "execution_count": 12,
     "metadata": {},
     "output_type": "execute_result"
    }
   ],
   "source": [
    "import sys; sys.path.append('../')\n",
    "from pathlib import Path\n",
    "from src.models.torch.embedded_regression import EmbeddedRegression\n",
    "from src.models.torch.trainer import Trainer\n",
    "from src.util.data import get_interactions, get_sparsity_factor, get_train_test_ratings\n",
    "from src.util.metrics import get_jaccard_ranking, get_classification_ranking_metrics, get_r2_score\n",
    "from src.util.plot import Plot\n",
    "import warnings\n",
    "warnings.simplefilter(action='ignore', category=FutureWarning)\n",
    "warnings.filterwarnings('ignore')\n",
    "plot = Plot()\n",
    "\n",
    "RATINGS_SMALL = Path('../data/ratings_small.csv')\n",
    "MOVIES = Path(\"../data/movies_metadata.csv\")\n",
    "OUTPUT_PATH = Path('../models/content-based.pt')\n",
    "EMB = \"../data/emb.p\"\n",
    "from sklearn.model_selection import train_test_split\n",
    "import numpy as np\n",
    "import pandas as pd\n",
    "import torch\n",
    "import torchvision\n",
    "from abc import ABC\n",
    "import pickle\n",
    "import torch.nn as nn\n",
    "import torch.nn.functional as F\n",
    "from torch.utils.data import DataLoader, TensorDataset\n",
    "from typing import List\n",
    "from sklearn import preprocessing\n",
    "from tqdm import tqdm\n",
    "\n",
    "tqdm.pandas()\n",
    "#EMB = r\"C:\\Users\\Wilk\\PiSR1\\data\\emb.p\"\n",
    "#RATINGS_SMALL = r\"C:\\Users\\Wilk\\PiSR1\\data\\ratings_small.csv\"\n",
    "\n",
    "to_drop = [\"1997-08-20\",\"2012-09-29\",\"2014-01-01\"]\n",
    "SEED = 42\n",
    "DEVICE = torch.device(\"cpu\")\n",
    "if torch.cuda.is_available():\n",
    "    DEVICE = torch.device(\"cuda\")\n",
    "DEVICE"
   ]
  },
  {
   "cell_type": "code",
   "execution_count": 13,
   "id": "generous-helen",
   "metadata": {},
   "outputs": [],
   "source": [
    "from typing import Tuple\n",
    "\n",
    "import numpy as np\n",
    "import pandas as pd\n",
    "from sklearn.model_selection import train_test_split\n",
    "from sklearn.preprocessing import LabelEncoder\n",
    "from tqdm.auto import tqdm\n",
    "from sklearn.utils import shuffle\n",
    "def get_train_test_ratings(\n",
    "    ratings: pd.DataFrame\n",
    ") -> Tuple[pd.DataFrame, pd.DataFrame]:\n",
    "\n",
    "    movies, counts = np.unique(ratings['movieId'].values, return_counts=True)\n",
    "    single_movies = set(movies[counts == 1])\n",
    "    single_ratings = ratings.loc[ratings['movieId'].isin(single_movies)]\n",
    "\n",
    "    ratings = ratings.loc[~ratings['movieId'].isin(single_movies)]\n",
    "\n",
    "    train_ratings, test_ratings = train_test_split(\n",
    "        ratings,\n",
    "        test_size=0.1,\n",
    "        stratify=ratings['movieId'].values,\n",
    "        random_state=42\n",
    "    )\n",
    "\n",
    "    train_ratings = pd.concat([train_ratings, single_ratings])\n",
    "    train_ratings = shuffle(train_ratings, random_state=42)\n",
    "\n",
    "    return train_ratings, test_ratings"
   ]
  },
  {
   "cell_type": "code",
   "execution_count": 14,
   "id": "individual-istanbul",
   "metadata": {},
   "outputs": [],
   "source": [
    "column_list = [\"id\",\"adult\",\"budget\",\"popularity\",\"runtime\",\"vote_average\",\"vote_count\",\"original_language\",\"belongs_to_collection\",\"spoken_languages\",\"genres\"]\n",
    "def getMoviesContentDataset(Embeddings=False):\n",
    "    movies = pd.read_csv(MOVIES)\n",
    "    ratings = pd.read_csv(RATINGS_SMALL)\n",
    "    \n",
    "    for drop_error in to_drop:\n",
    "        movies = movies[movies.id != drop_error]\n",
    "    movies.id = movies.id.astype('int64')\n",
    "    dataset = ratings.merge(movies[column_list], left_on='movieId', right_on='id')\n",
    "    \n",
    "    dataset = dataset.dropna()    \n",
    "    \n",
    "    budget_Scaler = preprocessing.StandardScaler().fit(dataset.budget.to_numpy().reshape(-1, 1))\n",
    "    \n",
    "    lang_encoder = preprocessing.LabelEncoder().fit(dataset.original_language)\n",
    "    \n",
    "    genres_encoder = preprocessing.LabelEncoder().fit(dataset.genres)\n",
    "    \n",
    "    spoken_languages_encoder = preprocessing.LabelEncoder().fit(dataset.spoken_languages)\n",
    "    \n",
    "    adult_encoder = preprocessing.LabelEncoder().fit(dataset.adult)\n",
    "    \n",
    "    belongs_to_collection_encoder = preprocessing.LabelEncoder().fit(dataset.belongs_to_collection)\n",
    "    \n",
    "    dataset.belongs_to_collection = belongs_to_collection_encoder.transform(dataset.belongs_to_collection)\n",
    "    dataset.original_language = lang_encoder.transform(dataset.original_language)\n",
    "    dataset.adult = adult_encoder.transform(dataset.adult)\n",
    "    dataset.spoken_languages = spoken_languages_encoder.transform(dataset.spoken_languages)\n",
    "    dataset.genres = genres_encoder.transform(dataset.genres)\n",
    "    dataset.budget = budget_Scaler.transform(dataset.budget.to_numpy().reshape(-1, 1))\n",
    "    dataset.movieId = dataset.movieId.astype(int)\n",
    "    dataset.popularity = dataset.popularity.astype(\"float64\")\n",
    "    dataset.original_language = dataset.popularity.astype(\"int32\")\n",
    "    dataset.belongs_to_collection = dataset.popularity.astype(\"int32\")\n",
    "    dataset.vote_count = dataset.vote_count.astype(\"int32\")\n",
    "    dataset.userId = dataset.userId.astype(int)\n",
    "    dataset.movieId = dataset.movieId.astype(int)\n",
    "    \n",
    "    if Embeddings:\n",
    "        movies_emb = pickle.load( open( EMB, \"rb\" ) )\n",
    "        dataset = dataset.merge(movies_emb[['id',\"vector\"]], left_on='movieId', right_on='id')\n",
    "        dataset.vector = dataset.vector.to_numpy()\n",
    "        dataset = dataset.drop([\"id_x\",\"id_y\"], axis=1)\n",
    "    else:\n",
    "        dataset=dataset.drop([\"id\"], axis=1)\n",
    "    dataset=dataset.drop([\"timestamp\"],axis=1)\n",
    "    return dataset\n",
    "dataset = getMoviesContentDataset(True)"
   ]
  },
  {
   "cell_type": "code",
   "execution_count": 15,
   "id": "robust-style",
   "metadata": {},
   "outputs": [
    {
     "data": {
      "text/plain": [
       "userId                     int32\n",
       "movieId                   object\n",
       "rating                   float64\n",
       "adult                      int32\n",
       "budget                   float64\n",
       "popularity               float64\n",
       "runtime                  float64\n",
       "vote_average             float64\n",
       "vote_count                 int32\n",
       "original_language          int32\n",
       "belongs_to_collection      int32\n",
       "spoken_languages           int32\n",
       "genres                     int32\n",
       "vector                    object\n",
       "dtype: object"
      ]
     },
     "execution_count": 15,
     "metadata": {},
     "output_type": "execute_result"
    }
   ],
   "source": [
    "dataset.dtypes"
   ]
  },
  {
   "cell_type": "code",
   "execution_count": 16,
   "id": "median-abortion",
   "metadata": {},
   "outputs": [],
   "source": [
    "train_ratings, test_ratings = get_train_test_ratings(dataset)\n",
    "target_train = torch.Tensor(train_ratings.rating.values)\n",
    "target_test  = torch.Tensor(test_ratings.rating.values) \n",
    "train_ratings= train_ratings.drop([\"movieId\",\"rating\"],axis=1)\n",
    "test_ratings = test_ratings.drop([\"movieId\",\"rating\"],axis=1)"
   ]
  },
  {
   "cell_type": "code",
   "execution_count": 17,
   "id": "cellular-minnesota",
   "metadata": {},
   "outputs": [],
   "source": [
    "train_ratings_t = torch.Tensor(train_ratings.drop([\"vector\"],axis=1).values)\n",
    "test_ratings_t = torch.Tensor(test_ratings.drop([\"vector\"],axis=1).values)"
   ]
  },
  {
   "cell_type": "code",
   "execution_count": 18,
   "id": "approved-shuttle",
   "metadata": {},
   "outputs": [],
   "source": [
    "vec_train = torch.Tensor(list(train_ratings.vector.values))\n",
    "vec_test = torch.Tensor(list(test_ratings.vector.values))"
   ]
  },
  {
   "cell_type": "code",
   "execution_count": 19,
   "id": "expressed-turkish",
   "metadata": {},
   "outputs": [],
   "source": [
    "train = torch.cat((vec_train,train_ratings_t),dim=1)\n",
    "test = torch.cat((vec_test,test_ratings_t),dim=1)"
   ]
  },
  {
   "cell_type": "code",
   "execution_count": 20,
   "id": "purple-nicaragua",
   "metadata": {},
   "outputs": [
    {
     "data": {
      "text/plain": [
       "torch.Size([9718, 779])"
      ]
     },
     "execution_count": 20,
     "metadata": {},
     "output_type": "execute_result"
    }
   ],
   "source": [
    "train.shape"
   ]
  },
  {
   "cell_type": "code",
   "execution_count": 21,
   "id": "magnetic-burke",
   "metadata": {},
   "outputs": [],
   "source": [
    "dataset_tensor_train = TensorDataset(train, target_train)\n",
    "dataset_tensor_test = TensorDataset(test, target_test)"
   ]
  },
  {
   "cell_type": "code",
   "execution_count": 22,
   "id": "according-helping",
   "metadata": {},
   "outputs": [],
   "source": [
    "BATCH_SIZE = 30"
   ]
  },
  {
   "cell_type": "code",
   "execution_count": 23,
   "id": "flexible-selection",
   "metadata": {},
   "outputs": [],
   "source": [
    "data_loader_train = DataLoader(dataset_tensor_train, batch_size=BATCH_SIZE)\n",
    "data_loader_test = DataLoader(dataset_tensor_test, batch_size=BATCH_SIZE)"
   ]
  },
  {
   "cell_type": "code",
   "execution_count": 24,
   "id": "swedish-founder",
   "metadata": {},
   "outputs": [],
   "source": [
    "from abc import ABC\n",
    "from typing import List, Tuple\n",
    "class ContentBaseRecommenderSystem(nn.Module):\n",
    "\n",
    "    def __init__(self, input_size, hidden_feature_size):\n",
    "        super().__init__()\n",
    "        self.movies = None\n",
    "        self.ratings = None\n",
    "        self.fc1 = nn.Linear(input_size, hidden_feature_size) #fully connected \n",
    "     \n",
    "        self.fc2 = nn.Linear(hidden_feature_size, hidden_feature_size)\n",
    "        self.fc3 = nn.Linear(hidden_feature_size, hidden_feature_size)\n",
    "        self.out_layer = nn.Linear(hidden_feature_size, 1)\n",
    "        self.act_fn = F.relu\n",
    "        \n",
    "    def forward(self, x):\n",
    "        x = self.fc1(x)\n",
    "        x = self.act_fn(x)\n",
    "        \n",
    "        x= self.fc2(x)\n",
    "        x = self.act_fn(x)\n",
    "             \n",
    "        x = self.act_fn(self.fc3(x))\n",
    "        out = F.sigmoid(self.out_layer(x))\n",
    "        \n",
    "        return out*5\n",
    "    \n",
    "    def predict(self, user_id: int) -> List[int]:\n",
    "        \"\"\"\n",
    "        Predicts ranking of movies to watch for a user.\n",
    "\n",
    "        Parameters\n",
    "        ----------\n",
    "        user_id : int\n",
    "            User's id from the data set.\n",
    "\n",
    "        Returns\n",
    "        -------\n",
    "        List[int]\n",
    "            List of movies ids. Best recommendations first.\n",
    "        \"\"\"\n",
    "        movies, rating = self.predict_scores(user_id)\n",
    "        return list(movies)\n",
    "        \n",
    "\n",
    "    def predict_score(self, user_id: int, movie_id: int) -> float:\n",
    "        \"\"\"\n",
    "        Predicts score for a given movie that a user would give.\n",
    "\n",
    "        Parameters\n",
    "        ----------\n",
    "        user_id : int\n",
    "            User's id from the data set.\n",
    "        movie_id : int\n",
    "            Movie's id from the data set.\n",
    "\n",
    "        Returns\n",
    "        -------\n",
    "        float\n",
    "            Predicted movie's score in range [0, 5].\n",
    "        \"\"\"\n",
    "        df = getMoviesContentDataset(True)\n",
    "        \n",
    "        df = df.loc[df['movieId'] == movie_id] \n",
    "        df_features = df.drop([\"movieId\",\"rating\",\"vector\"],axis=1).loc[0]\n",
    "        df_vector = df.vector.loc[0]\n",
    "        x_input = torch.Tensor(df_features.values)\n",
    "        vec_input = torch.Tensor(list(df_vector))\n",
    "\n",
    "        input = torch.cat((x_input,vec_input),dim=0)\n",
    "        \n",
    "        prediction = self.forward(input).item()\n",
    "        return prediction\n",
    "        \n",
    "\n",
    "    def predict_scores(self, user_id: int) -> Tuple[np.ndarray, np.ndarray]:\n",
    "        \"\"\"\n",
    "        Predicts scores for all the movies, that a user would give.\n",
    "\n",
    "        Parameters\n",
    "        ----------\n",
    "        user_id : int\n",
    "            User's id from the data set.\n",
    "\n",
    "        Returns\n",
    "        -------\n",
    "        Tuple[np.ndarray, np.ndarray]:\n",
    "            Ranked movies with their scores.\n",
    "        \"\"\"\n",
    "        df = getMoviesContentDataset(True)\n",
    "        df.userId = user_id\n",
    "       \n",
    "        \n",
    "        df = df.drop_duplicates('movieId')\n",
    "        movieIds = df.movieId.values\n",
    "        df_features = df.drop([\"movieId\",\"rating\",\"vector\"],axis=1)\n",
    "        df_vector = df.vector.values\n",
    "        x_input = torch.Tensor(df_features.values)\n",
    "        vec_input = torch.Tensor(list(df_vector))\n",
    "        input = torch.cat((x_input,vec_input),dim=1)\n",
    "   \n",
    "        prediction = self.forward(input).detach().numpy()\n",
    "    \n",
    "        ranking = pd.DataFrame(\n",
    "            zip(movieIds, prediction),\n",
    "            columns=['movie', 'rating']\n",
    "        )\n",
    "\n",
    "        ranking = ranking.sort_values(\n",
    "            by='rating',\n",
    "            ascending=False\n",
    "        )\n",
    "        return ranking.movie.values, np.concatenate( ranking.rating.values, axis=0 )\n",
    "        \n",
    "        \n",
    "    def get_user_data(self, user_id: int, exlude=False) -> pd.DataFrame:\n",
    "        df = self.getMoviesContentDataset(True)\n",
    "        if exlude:\n",
    "            df = df.loc[df['userId'] != user_id]\n",
    "        else:\n",
    "            df = df.loc[df['userId'] == user_id]\n",
    "        return df\n",
    "    \n",
    "    def setup(self):\n",
    "        self.movies = pd.read_csv(MOVIES)\n",
    "        self.ratings = pd.read_csv(RATINGS_SMALL)\n",
    "    def getMoviesContentDataset(self, Embeddings=False) -> pd.DataFrame:\n",
    "        movies = self.movies\n",
    "        ratings = self.ratings\n",
    "        to_drop = [\"1997-08-20\",\"2012-09-29\",\"2014-01-01\"]\n",
    "        for drop_error in to_drop:\n",
    "            movies = movies[movies.id != drop_error]\n",
    "        movies.id = movies.id.astype('int64')\n",
    "        dataset = ratings.merge(movies[column_list], left_on='movieId', right_on='id')\n",
    "\n",
    "        dataset = dataset.dropna()    \n",
    "\n",
    "        budget_Scaler = preprocessing.StandardScaler().fit(dataset.budget.to_numpy().reshape(-1, 1))\n",
    "\n",
    "        lang_encoder = preprocessing.LabelEncoder().fit(dataset.original_language)\n",
    "\n",
    "        genres_encoder = preprocessing.LabelEncoder().fit(dataset.genres)\n",
    "\n",
    "        spoken_languages_encoder = preprocessing.LabelEncoder().fit(dataset.spoken_languages)\n",
    "\n",
    "        adult_encoder = preprocessing.LabelEncoder().fit(dataset.adult)\n",
    "\n",
    "        belongs_to_collection_encoder = preprocessing.LabelEncoder().fit(dataset.belongs_to_collection)\n",
    "\n",
    "        dataset.belongs_to_collection = belongs_to_collection_encoder.transform(dataset.belongs_to_collection)\n",
    "        dataset.original_language = lang_encoder.transform(dataset.original_language)\n",
    "        dataset.adult = adult_encoder.transform(dataset.adult)\n",
    "        dataset.spoken_languages = spoken_languages_encoder.transform(dataset.spoken_languages)\n",
    "        dataset.genres = genres_encoder.transform(dataset.genres)\n",
    "        dataset.budget = budget_Scaler.transform(dataset.budget.to_numpy().reshape(-1, 1))\n",
    "        dataset.popularity = dataset.popularity.astype(\"float64\")\n",
    "\n",
    "        dataset.userId = dataset.userId.astype(int)\n",
    "        dataset.movieId = dataset.movieId.astype(int)\n",
    "\n",
    "        if Embeddings:\n",
    "            movies_emb = pickle.load( open( EMB, \"rb\" ) )\n",
    "            dataset = dataset.merge(movies_emb[['id',\"vector\"]], left_on='movieId', right_on='id')\n",
    "            dataset = dataset.drop([\"id_x\",\"id_y\"], axis=1)\n",
    "        else:\n",
    "            dataset=dataset.drop([\"id\"], axis=1)\n",
    "        dataset=dataset.drop([\"timestamp\"],axis=1)\n",
    "        return dataset\n"
   ]
  },
  {
   "cell_type": "code",
   "execution_count": 25,
   "id": "informed-title",
   "metadata": {},
   "outputs": [],
   "source": [
    "LR = 0.001\n",
    "EPOCHS = 20\n",
    "HIDDEN_SIZE = 254\n",
    "FLAT_SIZE = 779\n",
    "OUTPUT = 1\n",
    "\n",
    "loss_func = torch.nn.MSELoss()"
   ]
  },
  {
   "cell_type": "code",
   "execution_count": 26,
   "id": "heavy-reform",
   "metadata": {},
   "outputs": [],
   "source": [
    "import torch.optim as optim\n",
    "from sklearn.metrics import r2_score"
   ]
  },
  {
   "cell_type": "code",
   "execution_count": 27,
   "id": "grave-cheese",
   "metadata": {},
   "outputs": [
    {
     "data": {
      "application/vnd.jupyter.widget-view+json": {
       "model_id": "a70361b324f948f9bc96ce2edc5cea10",
       "version_major": 2,
       "version_minor": 0
      },
      "text/plain": [
       "  0%|          | 0/20 [00:00<?, ?it/s]"
      ]
     },
     "metadata": {},
     "output_type": "display_data"
    }
   ],
   "source": [
    "history = {\n",
    "    'loss':[],\n",
    "    'loss_test':[],\n",
    "    'r2_score_train':[],\n",
    "    'r2_score_test':[],\n",
    "}\n",
    "net = ContentBaseRecommenderSystem(FLAT_SIZE,HIDDEN_SIZE)\n",
    "\n",
    "optimizer = optim.Adam(net.parameters(),lr=LR)\n",
    "for epoch in tqdm(range(EPOCHS)):\n",
    "    loss_sum = []\n",
    "    train_pred = []\n",
    "    train_pred_t = []\n",
    "    for train, target in data_loader_train:\n",
    "        prediction = net(train)\n",
    "        loss = loss_func(torch.squeeze(prediction), target)\n",
    "        loss_sum.append(loss.item())\n",
    "        optimizer.zero_grad()\n",
    "        loss.backward()\n",
    "        optimizer.step()\n",
    "        train_pred.append(prediction.detach().numpy())\n",
    "        train_pred_t.append(target.detach().numpy())\n",
    "    loss_test = []\n",
    "    with torch.no_grad():\n",
    "        test_pred = []\n",
    "        test_pred_t = []\n",
    "        \n",
    "        for test, target in data_loader_test:\n",
    "            prediction = net(test) \n",
    "            loss = loss_func(torch.squeeze(prediction), target)\n",
    "            loss_test.append(loss)\n",
    "            test_pred.append(prediction.numpy())\n",
    "            test_pred_t.append(target.numpy())\n",
    "        test_pred = np.concatenate(np.squeeze(test_pred))\n",
    "        test_pred_t = np.concatenate(np.squeeze(test_pred_t))\n",
    "    history['loss'].append(sum(loss_sum)/len(loss_sum))\n",
    "    history['loss_test'].append(sum(loss_test)/len(loss_test))\n",
    "    history['r2_score_test'].append(r2_score(test_pred_t,test_pred))\n",
    "    history['r2_score_train'].append(r2_score(test_pred_t,test_pred))\n",
    "        \n",
    "        "
   ]
  },
  {
   "cell_type": "code",
   "execution_count": 28,
   "id": "disturbed-florida",
   "metadata": {},
   "outputs": [],
   "source": [
    "import seaborn as sns\n",
    "import matplotlib.pyplot as plt"
   ]
  },
  {
   "cell_type": "code",
   "execution_count": 29,
   "id": "documentary-waste",
   "metadata": {},
   "outputs": [
    {
     "data": {
      "image/png": "[encoded data removed]",
      "text/plain": [
       "<Figure size 432x288 with 1 Axes>"
      ]
     },
     "metadata": {},
     "output_type": "display_data"
    },
    {
     "data": {
      "image/png": "[encoded data removed]",
      "text/plain": [
       "<Figure size 432x288 with 1 Axes>"
      ]
     },
     "metadata": {},
     "output_type": "display_data"
    }
   ],
   "source": [
    "sns.set_style(\"darkgrid\")\n",
    "plt.plot(history['loss'])\n",
    "plt.show()\n",
    "plt.plot(history['loss_test'])\n",
    "plt.show()"
   ]
  },
  {
   "cell_type": "code",
   "execution_count": 30,
   "id": "prerequisite-talent",
   "metadata": {},
   "outputs": [
    {
     "data": {
      "image/png": "[encoded data removed]",
      "text/plain": [
       "<Figure size 432x288 with 1 Axes>"
      ]
     },
     "metadata": {},
     "output_type": "display_data"
    }
   ],
   "source": [
    "sns.set_style(\"darkgrid\")\n",
    "plt.plot(history['r2_score_test'])\n",
    "plt.show()"
   ]
  },
  {
   "cell_type": "code",
   "execution_count": 31,
   "id": "hourly-joseph",
   "metadata": {},
   "outputs": [
    {
     "data": {
      "image/png": "[encoded data removed]",
      "text/plain": [
       "<Figure size 432x288 with 1 Axes>"
      ]
     },
     "metadata": {},
     "output_type": "display_data"
    }
   ],
   "source": [
    "sns.set_style(\"darkgrid\")\n",
    "plt.plot(history['r2_score_train'])\n",
    "plt.show()"
   ]
  },
  {
   "cell_type": "code",
   "execution_count": 35,
   "id": "governing-demonstration",
   "metadata": {},
   "outputs": [],
   "source": [
    "\n",
    "net.setup()\n",
    "train_ratings, test_ratings = get_train_test_ratings(dataset)"
   ]
  },
  {
   "cell_type": "markdown",
   "id": "postal-sellers",
   "metadata": {},
   "source": [
    "# Tests\n"
   ]
  },
  {
   "cell_type": "code",
   "execution_count": 36,
   "id": "respective-variation",
   "metadata": {},
   "outputs": [
    {
     "data": {
      "image/svg+xml": [
       "<svg class=\"main-svg\" xmlns=\"http://www.w3.org/2000/svg\" xmlns:xlink=\"http://www.w3.org/1999/xlink\" width=\"700\" height=\"450\" style=\"\" viewBox=\"0 0 700 450\"><rect x=\"0\" y=\"0\" width=\"700\" height=\"450\" style=\"fill: rgb(255, 255, 255); fill-opacity: 1;\"/><defs id=\"defs-1f2895\"><g class=\"clips\"><clipPath id=\"clip1f2895xyplot\" class=\"plotclip\"><rect width=\"540\" height=\"270\"/></clipPath><clipPath class=\"axesclip\" id=\"clip1f2895x\"><rect x=\"80\" y=\"0\" width=\"540\" height=\"450\"/></clipPath><clipPath class=\"axesclip\" id=\"clip1f2895y\"><rect x=\"0\" y=\"100\" width=\"700\" height=\"270\"/></clipPath><clipPath class=\"axesclip\" id=\"clip1f2895xy\"><rect x=\"80\" y=\"100\" width=\"540\" height=\"270\"/></clipPath></g><g class=\"gradients\"/></defs><g class=\"bglayer\"><rect class=\"bg\" x=\"80\" y=\"100\" width=\"540\" height=\"270\" style=\"fill: rgb(229, 236, 246); fill-opacity: 1; stroke-width: 0;\"/></g><g class=\"layer-below\"><g class=\"imagelayer\"/><g class=\"shapelayer\"/></g><g class=\"cartesianlayer\"><g class=\"subplot xy\"><g class=\"layer-subplot\"><g class=\"shapelayer\"/><g class=\"imagelayer\"/></g><g class=\"gridlayer\"><g class=\"x\"/><g class=\"y\"><path class=\"ygrid crisp\" transform=\"translate(0,300.3)\" d=\"M80,0h540\" style=\"stroke: rgb(255, 255, 255); stroke-opacity: 1; stroke-width: 1px;\"/><path class=\"ygrid crisp\" transform=\"translate(0,230.6)\" d=\"M80,0h540\" style=\"stroke: rgb(255, 255, 255); stroke-opacity: 1; stroke-width: 1px;\"/><path class=\"ygrid crisp\" transform=\"translate(0,160.9)\" d=\"M80,0h540\" style=\"stroke: rgb(255, 255, 255); stroke-opacity: 1; stroke-width: 1px;\"/></g></g><g class=\"zerolinelayer\"><path class=\"yzl zl crisp\" transform=\"translate(0,370)\" d=\"M80,0h540\" style=\"stroke: rgb(255, 255, 255); stroke-opacity: 1; stroke-width: 2px;\"/></g><path class=\"xlines-below\"/><path class=\"ylines-below\"/><g class=\"overlines-below\"/><g class=\"xaxislayer-below\"/><g class=\"yaxislayer-below\"/><g class=\"overaxes-below\"/><g class=\"plot\" transform=\"translate(80,100)\" clip-path=\"url('#clip1f2895xyplot')\"><g class=\"barlayer mlayer\"><g class=\"trace bars\" shape-rendering=\"crispEdges\" style=\"opacity: 1;\"><g class=\"points\"><g class=\"point\"><path d=\"M0,270V247.7H54V270Z\" style=\"vector-effect: non-scaling-stroke; opacity: 1; stroke-width: 0px; fill: rgb(99, 110, 250); fill-opacity: 1;\"/></g><g class=\"point\"><path d=\"M54,270V173.81H108V270Z\" style=\"vector-effect: non-scaling-stroke; opacity: 1; stroke-width: 0px; fill: rgb(99, 110, 250); fill-opacity: 1;\"/></g><g class=\"point\"><path d=\"M108,270V173.81H162V270Z\" style=\"vector-effect: non-scaling-stroke; opacity: 1; stroke-width: 0px; fill: rgb(99, 110, 250); fill-opacity: 1;\"/></g><g class=\"point\"><path d=\"M162,270V224H216V270Z\" style=\"vector-effect: non-scaling-stroke; opacity: 1; stroke-width: 0px; fill: rgb(99, 110, 250); fill-opacity: 1;\"/></g><g class=\"point\"><path d=\"M216,270V239.33H270V270Z\" style=\"vector-effect: non-scaling-stroke; opacity: 1; stroke-width: 0px; fill: rgb(99, 110, 250); fill-opacity: 1;\"/></g><g class=\"point\"><path d=\"M270,270V232.36H324V270Z\" style=\"vector-effect: non-scaling-stroke; opacity: 1; stroke-width: 0px; fill: rgb(99, 110, 250); fill-opacity: 1;\"/></g><g class=\"point\"><path d=\"M324,270V226.79H378V270Z\" style=\"vector-effect: non-scaling-stroke; opacity: 1; stroke-width: 0px; fill: rgb(99, 110, 250); fill-opacity: 1;\"/></g><g class=\"point\"><path d=\"M378,270V229.57H432V270Z\" style=\"vector-effect: non-scaling-stroke; opacity: 1; stroke-width: 0px; fill: rgb(99, 110, 250); fill-opacity: 1;\"/></g><g class=\"point\"><path d=\"M432,270V190.54H486V270Z\" style=\"vector-effect: non-scaling-stroke; opacity: 1; stroke-width: 0px; fill: rgb(99, 110, 250); fill-opacity: 1;\"/></g><g class=\"point\"><path d=\"M486,270V13.5H540V270Z\" style=\"vector-effect: non-scaling-stroke; opacity: 1; stroke-width: 0px; fill: rgb(99, 110, 250); fill-opacity: 1;\"/></g></g></g></g></g><g class=\"overplot\"/><path class=\"xlines-above crisp\" d=\"M0,0\" style=\"fill: none;\"/><path class=\"ylines-above crisp\" d=\"M0,0\" style=\"fill: none;\"/><g class=\"overlines-above\"/><g class=\"xaxislayer-above\"><g class=\"xtick\"><text text-anchor=\"middle\" x=\"0\" y=\"383\" transform=\"translate(188,0)\" style=\"font-family: 'Open Sans', verdana, arial, sans-serif; font-size: 12px; fill: rgb(42, 63, 95); fill-opacity: 1; white-space: pre;\">3.5</text></g><g class=\"xtick\"><text text-anchor=\"middle\" x=\"0\" y=\"383\" transform=\"translate(323,0)\" style=\"font-family: 'Open Sans', verdana, arial, sans-serif; font-size: 12px; fill: rgb(42, 63, 95); fill-opacity: 1; white-space: pre;\">4</text></g><g class=\"xtick\"><text text-anchor=\"middle\" x=\"0\" y=\"383\" transform=\"translate(458,0)\" style=\"font-family: 'Open Sans', verdana, arial, sans-serif; font-size: 12px; fill: rgb(42, 63, 95); fill-opacity: 1; white-space: pre;\">4.5</text></g><g class=\"xtick\"><text text-anchor=\"middle\" x=\"0\" y=\"383\" transform=\"translate(593,0)\" style=\"font-family: 'Open Sans', verdana, arial, sans-serif; font-size: 12px; fill: rgb(42, 63, 95); fill-opacity: 1; white-space: pre;\">5</text></g></g><g class=\"yaxislayer-above\"><g class=\"ytick\"><text text-anchor=\"end\" x=\"79\" y=\"4.199999999999999\" transform=\"translate(0,370)\" style=\"font-family: 'Open Sans', verdana, arial, sans-serif; font-size: 12px; fill: rgb(42, 63, 95); fill-opacity: 1; white-space: pre;\">0</text></g><g class=\"ytick\"><text text-anchor=\"end\" x=\"79\" y=\"4.199999999999999\" transform=\"translate(0,300.3)\" style=\"font-family: 'Open Sans', verdana, arial, sans-serif; font-size: 12px; fill: rgb(42, 63, 95); fill-opacity: 1; white-space: pre;\">50</text></g><g class=\"ytick\"><text text-anchor=\"end\" x=\"79\" y=\"4.199999999999999\" transform=\"translate(0,230.6)\" style=\"font-family: 'Open Sans', verdana, arial, sans-serif; font-size: 12px; fill: rgb(42, 63, 95); fill-opacity: 1; white-space: pre;\">100</text></g><g class=\"ytick\"><text text-anchor=\"end\" x=\"79\" y=\"4.199999999999999\" transform=\"translate(0,160.9)\" style=\"font-family: 'Open Sans', verdana, arial, sans-serif; font-size: 12px; fill: rgb(42, 63, 95); fill-opacity: 1; white-space: pre;\">150</text></g></g><g class=\"overaxes-above\"/></g></g><g class=\"polarlayer\"/><g class=\"ternarylayer\"/><g class=\"geolayer\"/><g class=\"funnelarealayer\"/><g class=\"pielayer\"/><g class=\"treemaplayer\"/><g class=\"sunburstlayer\"/><g class=\"glimages\"/><defs id=\"topdefs-1f2895\"><g class=\"clips\"/></defs><g class=\"layer-above\"><g class=\"imagelayer\"/><g class=\"shapelayer\"/></g><g class=\"infolayer\"><g class=\"g-gtitle\"><text class=\"gtitle\" x=\"35\" y=\"50\" text-anchor=\"start\" dy=\"0em\" style=\"font-family: 'Open Sans', verdana, arial, sans-serif; font-size: 17px; fill: rgb(42, 63, 95); opacity: 1; font-weight: normal; white-space: pre;\">Recommended movie ratings - biased data :(</text></g><g class=\"g-xtitle\"><text class=\"xtitle\" x=\"350\" y=\"410.8\" text-anchor=\"middle\" style=\"font-family: 'Open Sans', verdana, arial, sans-serif; font-size: 14px; fill: rgb(42, 63, 95); opacity: 1; font-weight: normal; white-space: pre;\">Rating</text></g><g class=\"g-ytitle\"><text class=\"ytitle\" transform=\"rotate(-90,31.309375000000003,235)\" x=\"31.309375000000003\" y=\"235\" text-anchor=\"middle\" style=\"font-family: 'Open Sans', verdana, arial, sans-serif; font-size: 14px; fill: rgb(42, 63, 95); opacity: 1; font-weight: normal; white-space: pre;\">Count</text></g></g></svg>"
      ]
     },
     "metadata": {},
     "output_type": "display_data"
    }
   ],
   "source": [
    "with torch.no_grad():\n",
    "    _, scores = net.predict_scores(7)\n",
    "    plot.histogram(\n",
    "        x=scores,\n",
    "        title='Recommended movie ratings - biased data :(',\n",
    "        xaxis_title='Rating',\n",
    "        yaxis_title='Count'\n",
    "    )"
   ]
  },
  {
   "cell_type": "code",
   "execution_count": 37,
   "id": "adequate-minority",
   "metadata": {},
   "outputs": [
    {
     "data": {
      "application/vnd.jupyter.widget-view+json": {
       "model_id": "976374e2a70e43e696f4f01eb87d5a9a",
       "version_major": 2,
       "version_minor": 0
      },
      "text/plain": [
       "Testing predictions:   0%|          | 0/421 [00:00<?, ?it/s]"
      ]
     },
     "metadata": {},
     "output_type": "display_data"
    },
    {
     "data": {
      "image/svg+xml": [
       "<svg class=\"main-svg\" xmlns=\"http://www.w3.org/2000/svg\" xmlns:xlink=\"http://www.w3.org/1999/xlink\" width=\"700\" height=\"450\" style=\"\" viewBox=\"0 0 700 450\"><rect x=\"0\" y=\"0\" width=\"700\" height=\"450\" style=\"fill: rgb(255, 255, 255); fill-opacity: 1;\"/><defs id=\"defs-14d755\"><g class=\"clips\"><clipPath id=\"clip14d755xyplot\" class=\"plotclip\"><rect width=\"540\" height=\"270\"/></clipPath><clipPath class=\"axesclip\" id=\"clip14d755x\"><rect x=\"80\" y=\"0\" width=\"540\" height=\"450\"/></clipPath><clipPath class=\"axesclip\" id=\"clip14d755y\"><rect x=\"0\" y=\"100\" width=\"700\" height=\"270\"/></clipPath><clipPath class=\"axesclip\" id=\"clip14d755xy\"><rect x=\"80\" y=\"100\" width=\"540\" height=\"270\"/></clipPath></g><g class=\"gradients\"/></defs><g class=\"bglayer\"><rect class=\"bg\" x=\"80\" y=\"100\" width=\"540\" height=\"270\" style=\"fill: rgb(229, 236, 246); fill-opacity: 1; stroke-width: 0;\"/></g><g class=\"layer-below\"><g class=\"imagelayer\"/><g class=\"shapelayer\"/></g><g class=\"cartesianlayer\"><g class=\"subplot xy\"><g class=\"layer-subplot\"><g class=\"shapelayer\"/><g class=\"imagelayer\"/></g><g class=\"gridlayer\"><g class=\"x\"/><g class=\"y\"><path class=\"ygrid crisp\" transform=\"translate(0,292.27)\" d=\"M80,0h540\" style=\"stroke: rgb(255, 255, 255); stroke-opacity: 1; stroke-width: 1px;\"/><path class=\"ygrid crisp\" transform=\"translate(0,214.55)\" d=\"M80,0h540\" style=\"stroke: rgb(255, 255, 255); stroke-opacity: 1; stroke-width: 1px;\"/><path class=\"ygrid crisp\" transform=\"translate(0,136.82)\" d=\"M80,0h540\" style=\"stroke: rgb(255, 255, 255); stroke-opacity: 1; stroke-width: 1px;\"/></g></g><g class=\"zerolinelayer\"><path class=\"yzl zl crisp\" transform=\"translate(0,370)\" d=\"M80,0h540\" style=\"stroke: rgb(255, 255, 255); stroke-opacity: 1; stroke-width: 2px;\"/></g><path class=\"xlines-below\"/><path class=\"ylines-below\"/><g class=\"overlines-below\"/><g class=\"xaxislayer-below\"/><g class=\"yaxislayer-below\"/><g class=\"overaxes-below\"/><g class=\"plot\" transform=\"translate(80,100)\" clip-path=\"url('#clip14d755xyplot')\"><g class=\"barlayer mlayer\"><g class=\"trace bars\" shape-rendering=\"crispEdges\" style=\"opacity: 1;\"><g class=\"points\"><g class=\"point\"><path d=\"M0,270V240.46H49.09V270Z\" style=\"vector-effect: non-scaling-stroke; opacity: 1; stroke-width: 0px; fill: rgb(99, 110, 250); fill-opacity: 1;\"/></g><g class=\"point\"><path d=\"M0,0Z\" style=\"vector-effect: non-scaling-stroke; opacity: 1; stroke-width: 0px; fill: rgb(99, 110, 250); fill-opacity: 1;\"/></g><g class=\"point\"><path d=\"M98.18,270V265.34H147.27V270Z\" style=\"vector-effect: non-scaling-stroke; opacity: 1; stroke-width: 0px; fill: rgb(99, 110, 250); fill-opacity: 1;\"/></g><g class=\"point\"><path d=\"M147.27,270V240.46H196.36V270Z\" style=\"vector-effect: non-scaling-stroke; opacity: 1; stroke-width: 0px; fill: rgb(99, 110, 250); fill-opacity: 1;\"/></g><g class=\"point\"><path d=\"M196.36,270V252.9H245.45V270Z\" style=\"vector-effect: non-scaling-stroke; opacity: 1; stroke-width: 0px; fill: rgb(99, 110, 250); fill-opacity: 1;\"/></g><g class=\"point\"><path d=\"M245.45,270V175.17H294.55V270Z\" style=\"vector-effect: non-scaling-stroke; opacity: 1; stroke-width: 0px; fill: rgb(99, 110, 250); fill-opacity: 1;\"/></g><g class=\"point\"><path d=\"M294.55,270V257.56H343.64V270Z\" style=\"vector-effect: non-scaling-stroke; opacity: 1; stroke-width: 0px; fill: rgb(99, 110, 250); fill-opacity: 1;\"/></g><g class=\"point\"><path d=\"M343.64,270V221.81H392.73V270Z\" style=\"vector-effect: non-scaling-stroke; opacity: 1; stroke-width: 0px; fill: rgb(99, 110, 250); fill-opacity: 1;\"/></g><g class=\"point\"><path d=\"M392.73,270V251.35H441.82V270Z\" style=\"vector-effect: non-scaling-stroke; opacity: 1; stroke-width: 0px; fill: rgb(99, 110, 250); fill-opacity: 1;\"/></g><g class=\"point\"><path d=\"M441.82,270V268.45H490.91V270Z\" style=\"vector-effect: non-scaling-stroke; opacity: 1; stroke-width: 0px; fill: rgb(99, 110, 250); fill-opacity: 1;\"/></g><g class=\"point\"><path d=\"M490.91,270V13.5H540V270Z\" style=\"vector-effect: non-scaling-stroke; opacity: 1; stroke-width: 0px; fill: rgb(99, 110, 250); fill-opacity: 1;\"/></g></g></g></g></g><g class=\"overplot\"/><path class=\"xlines-above crisp\" d=\"M0,0\" style=\"fill: none;\"/><path class=\"ylines-above crisp\" d=\"M0,0\" style=\"fill: none;\"/><g class=\"overlines-above\"/><g class=\"xaxislayer-above\"><g class=\"xtick\"><text text-anchor=\"middle\" x=\"0\" y=\"383\" transform=\"translate(104.55,0)\" style=\"font-family: 'Open Sans', verdana, arial, sans-serif; font-size: 12px; fill: rgb(42, 63, 95); fill-opacity: 1; white-space: pre;\">0</text></g><g class=\"xtick\"><text text-anchor=\"middle\" x=\"0\" y=\"383\" transform=\"translate(202.73000000000002,0)\" style=\"font-family: 'Open Sans', verdana, arial, sans-serif; font-size: 12px; fill: rgb(42, 63, 95); fill-opacity: 1; white-space: pre;\">0.2</text></g><g class=\"xtick\"><text text-anchor=\"middle\" x=\"0\" y=\"383\" transform=\"translate(300.90999999999997,0)\" style=\"font-family: 'Open Sans', verdana, arial, sans-serif; font-size: 12px; fill: rgb(42, 63, 95); fill-opacity: 1; white-space: pre;\">0.4</text></g><g class=\"xtick\"><text text-anchor=\"middle\" x=\"0\" y=\"383\" transform=\"translate(399.09,0)\" style=\"font-family: 'Open Sans', verdana, arial, sans-serif; font-size: 12px; fill: rgb(42, 63, 95); fill-opacity: 1; white-space: pre;\">0.6</text></g><g class=\"xtick\"><text text-anchor=\"middle\" x=\"0\" y=\"383\" transform=\"translate(497.27,0)\" style=\"font-family: 'Open Sans', verdana, arial, sans-serif; font-size: 12px; fill: rgb(42, 63, 95); fill-opacity: 1; white-space: pre;\">0.8</text></g><g class=\"xtick\"><text text-anchor=\"middle\" x=\"0\" y=\"383\" transform=\"translate(595.45,0)\" style=\"font-family: 'Open Sans', verdana, arial, sans-serif; font-size: 12px; fill: rgb(42, 63, 95); fill-opacity: 1; white-space: pre;\">1</text></g></g><g class=\"yaxislayer-above\"><g class=\"ytick\"><text text-anchor=\"end\" x=\"79\" y=\"4.199999999999999\" transform=\"translate(0,370)\" style=\"font-family: 'Open Sans', verdana, arial, sans-serif; font-size: 12px; fill: rgb(42, 63, 95); fill-opacity: 1; white-space: pre;\">0</text></g><g class=\"ytick\"><text text-anchor=\"end\" x=\"79\" y=\"4.199999999999999\" transform=\"translate(0,292.27)\" style=\"font-family: 'Open Sans', verdana, arial, sans-serif; font-size: 12px; fill: rgb(42, 63, 95); fill-opacity: 1; white-space: pre;\">50</text></g><g class=\"ytick\"><text text-anchor=\"end\" x=\"79\" y=\"4.199999999999999\" transform=\"translate(0,214.55)\" style=\"font-family: 'Open Sans', verdana, arial, sans-serif; font-size: 12px; fill: rgb(42, 63, 95); fill-opacity: 1; white-space: pre;\">100</text></g><g class=\"ytick\"><text text-anchor=\"end\" x=\"79\" y=\"4.199999999999999\" transform=\"translate(0,136.82)\" style=\"font-family: 'Open Sans', verdana, arial, sans-serif; font-size: 12px; fill: rgb(42, 63, 95); fill-opacity: 1; white-space: pre;\">150</text></g></g><g class=\"overaxes-above\"/></g></g><g class=\"polarlayer\"/><g class=\"ternarylayer\"/><g class=\"geolayer\"/><g class=\"funnelarealayer\"/><g class=\"pielayer\"/><g class=\"treemaplayer\"/><g class=\"sunburstlayer\"/><g class=\"glimages\"/><defs id=\"topdefs-14d755\"><g class=\"clips\"/></defs><g class=\"layer-above\"><g class=\"imagelayer\"/><g class=\"shapelayer\"/></g><g class=\"infolayer\"><g class=\"g-gtitle\"><text class=\"gtitle\" x=\"35\" y=\"50\" text-anchor=\"start\" dy=\"0em\" style=\"font-family: 'Open Sans', verdana, arial, sans-serif; font-size: 17px; fill: rgb(42, 63, 95); opacity: 1; font-weight: normal; white-space: pre;\">Jaccard index per each user ranking (liked_movie >= 3.5)</text></g><g class=\"g-xtitle\"><text class=\"xtitle\" x=\"350\" y=\"410.8\" text-anchor=\"middle\" style=\"font-family: 'Open Sans', verdana, arial, sans-serif; font-size: 14px; fill: rgb(42, 63, 95); opacity: 1; font-weight: normal; white-space: pre;\">Jaccard index</text></g><g class=\"g-ytitle\"><text class=\"ytitle\" transform=\"rotate(-90,31.309375000000003,235)\" x=\"31.309375000000003\" y=\"235\" text-anchor=\"middle\" style=\"font-family: 'Open Sans', verdana, arial, sans-serif; font-size: 14px; fill: rgb(42, 63, 95); opacity: 1; font-weight: normal; white-space: pre;\">Count</text></g></g></svg>"
      ]
     },
     "metadata": {},
     "output_type": "display_data"
    }
   ],
   "source": [
    "with torch.no_grad():\n",
    "    jaccard_ranking = get_jaccard_ranking(net, test_ratings)\n",
    "    plot.histogram(\n",
    "        x=jaccard_ranking,\n",
    "        title='Jaccard index per each user ranking (liked_movie >= 3.5)',\n",
    "        xaxis_title='Jaccard index',\n",
    "        yaxis_title='Count'\n",
    "    )"
   ]
  },
  {
   "cell_type": "code",
   "execution_count": 38,
   "id": "moderate-seller",
   "metadata": {},
   "outputs": [
    {
     "data": {
      "application/vnd.jupyter.widget-view+json": {
       "model_id": "98725c414311418987bfd0a0851b29ed",
       "version_major": 2,
       "version_minor": 0
      },
      "text/plain": [
       "Testing predictions:   0%|          | 0/421 [00:00<?, ?it/s]"
      ]
     },
     "metadata": {},
     "output_type": "display_data"
    },
    {
     "name": "stdout",
     "output_type": "stream",
     "text": [
      "\n",
      "\n",
      "r2 score: -1.025\n"
     ]
    }
   ],
   "source": [
    "with torch.no_grad():\n",
    "    r2_score = get_r2_score(net, test_ratings)\n",
    "    print(f'\\n\\nr2 score: {r2_score:.3f}')"
   ]
  },
  {
   "cell_type": "code",
   "execution_count": 40,
   "id": "sublime-wallet",
   "metadata": {},
   "outputs": [
    {
     "data": {
      "application/vnd.jupyter.widget-view+json": {
       "model_id": "0f70a18e43e640ea91357305242c6b47",
       "version_major": 2,
       "version_minor": 0
      },
      "text/plain": [
       "Testing predictions:   0%|          | 0/421 [00:00<?, ?it/s]"
      ]
     },
     "metadata": {},
     "output_type": "display_data"
    },
    {
     "data": {
      "image/svg+xml": [
       "<svg class=\"main-svg\" xmlns=\"http://www.w3.org/2000/svg\" xmlns:xlink=\"http://www.w3.org/1999/xlink\" width=\"700\" height=\"450\" style=\"\" viewBox=\"0 0 700 450\"><rect x=\"0\" y=\"0\" width=\"700\" height=\"450\" style=\"fill: rgb(255, 255, 255); fill-opacity: 1;\"/><defs id=\"defs-3445ed\"><g class=\"clips\"><clipPath id=\"clip3445edxyplot\" class=\"plotclip\"><rect width=\"540\" height=\"270\"/></clipPath><clipPath class=\"axesclip\" id=\"clip3445edx\"><rect x=\"80\" y=\"0\" width=\"540\" height=\"450\"/></clipPath><clipPath class=\"axesclip\" id=\"clip3445edy\"><rect x=\"0\" y=\"100\" width=\"700\" height=\"270\"/></clipPath><clipPath class=\"axesclip\" id=\"clip3445edxy\"><rect x=\"80\" y=\"100\" width=\"540\" height=\"270\"/></clipPath></g><g class=\"gradients\"/></defs><g class=\"bglayer\"><rect class=\"bg\" x=\"80\" y=\"100\" width=\"540\" height=\"270\" style=\"fill: rgb(229, 236, 246); fill-opacity: 1; stroke-width: 0;\"/></g><g class=\"layer-below\"><g class=\"imagelayer\"/><g class=\"shapelayer\"/></g><g class=\"cartesianlayer\"><g class=\"subplot xy\"><g class=\"layer-subplot\"><g class=\"shapelayer\"/><g class=\"imagelayer\"/></g><g class=\"gridlayer\"><g class=\"x\"/><g class=\"y\"><path class=\"ygrid crisp\" transform=\"translate(0,326.45)\" d=\"M80,0h540\" style=\"stroke: rgb(255, 255, 255); stroke-opacity: 1; stroke-width: 1px;\"/><path class=\"ygrid crisp\" transform=\"translate(0,282.9)\" d=\"M80,0h540\" style=\"stroke: rgb(255, 255, 255); stroke-opacity: 1; stroke-width: 1px;\"/><path class=\"ygrid crisp\" transform=\"translate(0,239.34)\" d=\"M80,0h540\" style=\"stroke: rgb(255, 255, 255); stroke-opacity: 1; stroke-width: 1px;\"/><path class=\"ygrid crisp\" transform=\"translate(0,195.79000000000002)\" d=\"M80,0h540\" style=\"stroke: rgb(255, 255, 255); stroke-opacity: 1; stroke-width: 1px;\"/><path class=\"ygrid crisp\" transform=\"translate(0,152.24)\" d=\"M80,0h540\" style=\"stroke: rgb(255, 255, 255); stroke-opacity: 1; stroke-width: 1px;\"/><path class=\"ygrid crisp\" transform=\"translate(0,108.69)\" d=\"M80,0h540\" style=\"stroke: rgb(255, 255, 255); stroke-opacity: 1; stroke-width: 1px;\"/></g></g><g class=\"zerolinelayer\"><path class=\"yzl zl crisp\" transform=\"translate(0,370)\" d=\"M80,0h540\" style=\"stroke: rgb(255, 255, 255); stroke-opacity: 1; stroke-width: 2px;\"/></g><path class=\"xlines-below\"/><path class=\"ylines-below\"/><g class=\"overlines-below\"/><g class=\"xaxislayer-below\"/><g class=\"yaxislayer-below\"/><g class=\"overaxes-below\"/><g class=\"plot\" transform=\"translate(80,100)\" clip-path=\"url('#clip3445edxyplot')\"><g class=\"barlayer mlayer\"><g class=\"trace bars\" style=\"opacity: 1;\"><g class=\"points\"><g class=\"point\"><path d=\"M13.5,270V13.5H121.5V270Z\" style=\"vector-effect: non-scaling-stroke; opacity: 1; stroke-width: 0.5px; fill: rgb(99, 110, 250); fill-opacity: 1; stroke: rgb(229, 236, 246); stroke-opacity: 1;\"/><text class=\"bartext bartext-inside\" text-anchor=\"middle\" data-notex=\"1\" x=\"0\" y=\"0\" style=\"font-family: 'Open Sans', verdana, arial, sans-serif; font-size: 12px; fill: rgb(255, 255, 255); fill-opacity: 1; white-space: pre;\" transform=\"translate(67.3203125,28.5)\">0.59</text></g><g class=\"point\"><path d=\"M148.5,270V69.97H256.5V270Z\" style=\"vector-effect: non-scaling-stroke; opacity: 1; stroke-width: 0.5px; fill: rgb(99, 110, 250); fill-opacity: 1; stroke: rgb(229, 236, 246); stroke-opacity: 1;\"/><text class=\"bartext bartext-inside\" text-anchor=\"middle\" data-notex=\"1\" x=\"0\" y=\"0\" style=\"font-family: 'Open Sans', verdana, arial, sans-serif; font-size: 12px; fill: rgb(255, 255, 255); fill-opacity: 1; white-space: pre;\" transform=\"translate(202.3203125,84.97)\">0.46</text></g><g class=\"point\"><path d=\"M283.5,270V44.66H391.5V270Z\" style=\"vector-effect: non-scaling-stroke; opacity: 1; stroke-width: 0.5px; fill: rgb(99, 110, 250); fill-opacity: 1; stroke: rgb(229, 236, 246); stroke-opacity: 1;\"/><text class=\"bartext bartext-inside\" text-anchor=\"middle\" data-notex=\"1\" x=\"0\" y=\"0\" style=\"font-family: 'Open Sans', verdana, arial, sans-serif; font-size: 12px; fill: rgb(255, 255, 255); fill-opacity: 1; white-space: pre;\" transform=\"translate(337.3203125,59.66)\">0.52</text></g><g class=\"point\"><path d=\"M418.5,270V48.96H526.5V270Z\" style=\"vector-effect: non-scaling-stroke; opacity: 1; stroke-width: 0.5px; fill: rgb(99, 110, 250); fill-opacity: 1; stroke: rgb(229, 236, 246); stroke-opacity: 1;\"/><text class=\"bartext bartext-inside\" text-anchor=\"middle\" data-notex=\"1\" x=\"0\" y=\"0\" style=\"font-family: 'Open Sans', verdana, arial, sans-serif; font-size: 12px; fill: rgb(255, 255, 255); fill-opacity: 1; white-space: pre;\" transform=\"translate(472.5,63.96)\">0.51</text></g></g></g></g></g><g class=\"overplot\"/><path class=\"xlines-above crisp\" d=\"M0,0\" style=\"fill: none;\"/><path class=\"ylines-above crisp\" d=\"M0,0\" style=\"fill: none;\"/><g class=\"overlines-above\"/><g class=\"xaxislayer-above\"><g class=\"xtick\"><text text-anchor=\"middle\" x=\"0\" y=\"383\" transform=\"translate(147.5,0)\" style=\"font-family: 'Open Sans', verdana, arial, sans-serif; font-size: 12px; fill: rgb(42, 63, 95); fill-opacity: 1; white-space: pre;\">accuracy</text></g><g class=\"xtick\"><text text-anchor=\"middle\" x=\"0\" y=\"383\" transform=\"translate(282.5,0)\" style=\"font-family: 'Open Sans', verdana, arial, sans-serif; font-size: 12px; fill: rgb(42, 63, 95); fill-opacity: 1; white-space: pre;\">f1-score</text></g><g class=\"xtick\"><text text-anchor=\"middle\" x=\"0\" y=\"383\" transform=\"translate(417.5,0)\" style=\"font-family: 'Open Sans', verdana, arial, sans-serif; font-size: 12px; fill: rgb(42, 63, 95); fill-opacity: 1; white-space: pre;\">precision</text></g><g class=\"xtick\"><text text-anchor=\"middle\" x=\"0\" y=\"383\" transform=\"translate(552.5,0)\" style=\"font-family: 'Open Sans', verdana, arial, sans-serif; font-size: 12px; fill: rgb(42, 63, 95); fill-opacity: 1; white-space: pre;\">recall</text></g></g><g class=\"yaxislayer-above\"><g class=\"ytick\"><text text-anchor=\"end\" x=\"79\" y=\"4.199999999999999\" transform=\"translate(0,370)\" style=\"font-family: 'Open Sans', verdana, arial, sans-serif; font-size: 12px; fill: rgb(42, 63, 95); fill-opacity: 1; white-space: pre;\">0</text></g><g class=\"ytick\"><text text-anchor=\"end\" x=\"79\" y=\"4.199999999999999\" transform=\"translate(0,326.45)\" style=\"font-family: 'Open Sans', verdana, arial, sans-serif; font-size: 12px; fill: rgb(42, 63, 95); fill-opacity: 1; white-space: pre;\">0.1</text></g><g class=\"ytick\"><text text-anchor=\"end\" x=\"79\" y=\"4.199999999999999\" transform=\"translate(0,282.9)\" style=\"font-family: 'Open Sans', verdana, arial, sans-serif; font-size: 12px; fill: rgb(42, 63, 95); fill-opacity: 1; white-space: pre;\">0.2</text></g><g class=\"ytick\"><text text-anchor=\"end\" x=\"79\" y=\"4.199999999999999\" transform=\"translate(0,239.34)\" style=\"font-family: 'Open Sans', verdana, arial, sans-serif; font-size: 12px; fill: rgb(42, 63, 95); fill-opacity: 1; white-space: pre;\">0.3</text></g><g class=\"ytick\"><text text-anchor=\"end\" x=\"79\" y=\"4.199999999999999\" transform=\"translate(0,195.79000000000002)\" style=\"font-family: 'Open Sans', verdana, arial, sans-serif; font-size: 12px; fill: rgb(42, 63, 95); fill-opacity: 1; white-space: pre;\">0.4</text></g><g class=\"ytick\"><text text-anchor=\"end\" x=\"79\" y=\"4.199999999999999\" transform=\"translate(0,152.24)\" style=\"font-family: 'Open Sans', verdana, arial, sans-serif; font-size: 12px; fill: rgb(42, 63, 95); fill-opacity: 1; white-space: pre;\">0.5</text></g><g class=\"ytick\"><text text-anchor=\"end\" x=\"79\" y=\"4.199999999999999\" transform=\"translate(0,108.69)\" style=\"font-family: 'Open Sans', verdana, arial, sans-serif; font-size: 12px; fill: rgb(42, 63, 95); fill-opacity: 1; white-space: pre;\">0.6</text></g></g><g class=\"overaxes-above\"/></g></g><g class=\"polarlayer\"/><g class=\"ternarylayer\"/><g class=\"geolayer\"/><g class=\"funnelarealayer\"/><g class=\"pielayer\"/><g class=\"treemaplayer\"/><g class=\"sunburstlayer\"/><g class=\"glimages\"/><defs id=\"topdefs-3445ed\"><g class=\"clips\"/></defs><g class=\"layer-above\"><g class=\"imagelayer\"/><g class=\"shapelayer\"/></g><g class=\"infolayer\"><g class=\"g-gtitle\"><text class=\"gtitle\" x=\"35\" y=\"50\" text-anchor=\"start\" dy=\"0em\" style=\"font-family: 'Open Sans', verdana, arial, sans-serif; font-size: 17px; fill: rgb(42, 63, 95); opacity: 1; font-weight: normal; white-space: pre;\">Classification metrics</text></g><g class=\"g-xtitle\"><text class=\"xtitle\" x=\"350\" y=\"410.8\" text-anchor=\"middle\" style=\"font-family: 'Open Sans', verdana, arial, sans-serif; font-size: 14px; fill: rgb(42, 63, 95); opacity: 1; font-weight: normal; white-space: pre;\">Metrics</text></g><g class=\"g-ytitle\"><text class=\"ytitle\" transform=\"rotate(-90,34.575,235)\" x=\"34.575\" y=\"235\" text-anchor=\"middle\" style=\"font-family: 'Open Sans', verdana, arial, sans-serif; font-size: 14px; fill: rgb(42, 63, 95); opacity: 1; font-weight: normal; white-space: pre;\">Score</text></g></g></svg>"
      ]
     },
     "metadata": {},
     "output_type": "display_data"
    }
   ],
   "source": [
    "with torch.no_grad():\n",
    "    classification_metrics = get_classification_ranking_metrics(net, test_ratings)\n",
    "    plot.bar(\n",
    "        classification_metrics,\n",
    "        title='Classification metrics',\n",
    "        xaxis_title='Metrics',\n",
    "        yaxis_title='Score'\n",
    "    )"
   ]
  },
  {
   "cell_type": "code",
   "execution_count": null,
   "id": "peaceful-madonna",
   "metadata": {},
   "outputs": [],
   "source": []
  },
  {
   "cell_type": "code",
   "execution_count": null,
   "id": "particular-launch",
   "metadata": {},
   "outputs": [],
   "source": []
  }
 ],
 "metadata": {
  "kernelspec": {
   "display_name": "Python 3",
   "language": "python",
   "name": "python3"
  },
  "language_info": {
   "codemirror_mode": {
    "name": "ipython",
    "version": 3
   },
   "file_extension": ".py",
   "mimetype": "text/x-python",
   "name": "python",
   "nbconvert_exporter": "python",
   "pygments_lexer": "ipython3",
   "version": "3.9.2"
  }
 },
 "nbformat": 4,
 "nbformat_minor": 5
}
