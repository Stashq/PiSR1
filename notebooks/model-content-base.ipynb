{
 "cells": [
  {
   "cell_type": "code",
   "execution_count": 71,
   "id": "executed-seattle",
   "metadata": {},
   "outputs": [],
   "source": [
    "from sklearn.model_selection import train_test_split\n",
    "import numpy as np\n",
    "import pandas as pd\n",
    "import torch\n",
    "import torchvision\n",
    "from abc import ABC\n",
    "import pickle\n",
    "import torch.nn as nn\n",
    "import torch.nn.functional as F\n",
    "from torch.utils.data import DataLoader, TensorDataset\n",
    "from typing import List\n",
    "from tqdm import tqdm\n",
    "tqdm.pandas()\n",
    "EMB = r\"C:\\Users\\Wilk\\PiSR1\\data\\emb.p\"\n",
    "RATINGS_SMALL = r\"C:\\Users\\Wilk\\PiSR1\\data\\ratings_small.csv\"\n",
    "SEED = 42\n"
   ]
  },
  {
   "cell_type": "code",
   "execution_count": 72,
   "id": "static-christianity",
   "metadata": {},
   "outputs": [],
   "source": [
    "ratings = pd.read_csv(RATINGS_SMALL)\n",
    "movies_emb = pickle.load( open( EMB, \"rb\" ) )\n",
    "dataset = ratings.merge(movies_emb[['id', 'title','overview',\"vector\"]], left_on='movieId', right_on='id')\n",
    "dataset = dataset.set_index(\"id\")\n",
    "dataset.userId = dataset.userId.astype(\"Int64\")\n",
    "target = dataset.rating.to_numpy()\n",
    "\n",
    "dataset = dataset.drop([\"timestamp\",\"title\",\"overview\",\"movieId\",\"rating\"],axis=1).to_numpy()\n"
   ]
  },
  {
   "cell_type": "code",
   "execution_count": 73,
   "id": "greater-approval",
   "metadata": {},
   "outputs": [],
   "source": [
    "tensors = []\n",
    "for data in dataset:\n",
    "    x = torch.FloatTensor(np.append(data[0],data[1]))\n",
    "    tensors.append(x)\n"
   ]
  },
  {
   "cell_type": "code",
   "execution_count": 74,
   "id": "spanish-merit",
   "metadata": {},
   "outputs": [],
   "source": [
    "FLAT_SIZE = 768+1\n",
    "OUTPUT = 1\n",
    "BATCH_SIZE = 10"
   ]
  },
  {
   "cell_type": "code",
   "execution_count": 75,
   "id": "separated-safety",
   "metadata": {},
   "outputs": [],
   "source": [
    "class ContentBaseRecommenderSystem(nn.Module):\n",
    "\n",
    "    def __init__(self, input_size, hidden_feature_size):\n",
    "        super().__init__()\n",
    "        self.fc1 = nn.Linear(input_size, hidden_feature_size) #fully connected    \n",
    "        self.fc2 = nn.Linear(hidden_feature_size, hidden_feature_size)\n",
    "        self.fc3 = nn.Linear(hidden_feature_size, hidden_feature_size)\n",
    "        self.out_layer = nn.Linear(hidden_feature_size, 1)\n",
    "        self.act_fn = F.relu\n",
    "        \n",
    "    def forward(self, x):\n",
    "        x = self.act_fn(self.fc1(x))\n",
    "        x = self.act_fn(self.fc2(x))\n",
    "        x = self.act_fn(self.fc3(x))\n",
    "        out = self.out_layer(x)\n",
    "        \n",
    "        return out\n",
    "    \n",
    "    def predict(user_id: int) -> List[int]:\n",
    "        \"\"\"\n",
    "        Predicts ranking of movies to watch for a user.\n",
    "\n",
    "        Parameters\n",
    "        ----------\n",
    "        user_id : int\n",
    "            User's id from the data set.\n",
    "\n",
    "        Returns\n",
    "        -------\n",
    "        List[int]\n",
    "            List of movies ids. Best recommendations first.\n",
    "        \"\"\"\n",
    "        pass\n",
    "\n",
    "    def predict_score(user_id: int, movie_id: int) -> float:\n",
    "        \"\"\"\n",
    "        Predicts score for a given movie that a user would give.\n",
    "\n",
    "        Parameters\n",
    "        ----------\n",
    "        user_id : int\n",
    "            User's id from the data set.\n",
    "        movie_id : int\n",
    "            Movie's id from the data set.\n",
    "\n",
    "        Returns\n",
    "        -------\n",
    "        float\n",
    "            Predicted movie's score in range [0, 5]\n",
    "        \"\"\"\n",
    "        pass\n",
    "\n",
    "    def predict_scores(user_id: int) -> float:\n",
    "        \"\"\"\n",
    "        Predicts scores for all the movies, that a user would give.\n",
    "\n",
    "        Parameters\n",
    "        ----------\n",
    "        user_id : int\n",
    "            User's id from the data set.\n",
    "\n",
    "        Returns\n",
    "        -------\n",
    "        float\n",
    "            Predicted movie's score in range [0, 5].\n",
    "        \"\"\"\n",
    "        pass\n"
   ]
  },
  {
   "cell_type": "code",
   "execution_count": 76,
   "id": "absent-layer",
   "metadata": {},
   "outputs": [],
   "source": [
    "LR = 0.001\n",
    "EPOCHS = 30\n",
    "HIDDEN_SIZE = 256\n",
    "loss_func = torch.nn.MSELoss()"
   ]
  },
  {
   "cell_type": "code",
   "execution_count": 77,
   "id": "adolescent-xerox",
   "metadata": {},
   "outputs": [],
   "source": [
    "import torch.optim as optim\n"
   ]
  },
  {
   "cell_type": "code",
   "execution_count": null,
   "id": "brilliant-float",
   "metadata": {},
   "outputs": [
    {
     "name": "stderr",
     "output_type": "stream",
     "text": [
      "  3%|██▋                                                                             | 1/30 [05:16<2:32:52, 316.30s/it]"
     ]
    }
   ],
   "source": [
    "history = {\n",
    "    'loss':[]\n",
    "}\n",
    "\n",
    "\n",
    "net = ContentBaseRecommenderSystem(FLAT_SIZE,HIDDEN_SIZE)\n",
    "optimizer = optim.Adam(net.parameters(),lr=LR)\n",
    "for epoch in tqdm(range(EPOCHS)):\n",
    "    sum_loss = 0\n",
    "    for idx, data in enumerate(train_ratings):\n",
    "        X = data\n",
    "        y = torch.tensor(y_train[idx]).float() \n",
    "        output = torch.squeeze(net(X))\n",
    "        loss  = loss_func(output,y)\n",
    "        optimizer.zero_grad()\n",
    "        loss.backward()\n",
    "        optimizer.step()\n",
    "        sum_loss +=loss.item()\n",
    "    history['loss'].append(sum_loss/len(train_ratings))"
   ]
  },
  {
   "cell_type": "code",
   "execution_count": null,
   "id": "romance-ethernet",
   "metadata": {},
   "outputs": [],
   "source": [
    "import seaborn as sns\n",
    "import matplotlib.pyplot as plt"
   ]
  },
  {
   "cell_type": "code",
   "execution_count": 84,
   "id": "anonymous-house",
   "metadata": {},
   "outputs": [
    {
     "data": {
      "image/png": "[encoded data removed]",
      "text/plain": [
       "<Figure size 432x288 with 1 Axes>"
      ]
     },
     "metadata": {},
     "output_type": "display_data"
    }
   ],
   "source": [
    "sns.set_style(\"darkgrid\")\n",
    "plt.plot(history['loss'])\n",
    "plt.show()"
   ]
  },
  {
   "cell_type": "code",
   "execution_count": null,
   "id": "unlikely-federal",
   "metadata": {},
   "outputs": [],
   "source": []
  },
  {
   "cell_type": "code",
   "execution_count": null,
   "id": "inappropriate-nothing",
   "metadata": {},
   "outputs": [],
   "source": []
  }
 ],
 "metadata": {
  "kernelspec": {
   "display_name": "Python 3",
   "language": "python",
   "name": "python3"
  },
  "language_info": {
   "codemirror_mode": {
    "name": "ipython",
    "version": 3
   },
   "file_extension": ".py",
   "mimetype": "text/x-python",
   "name": "python",
   "nbconvert_exporter": "python",
   "pygments_lexer": "ipython3",
   "version": "3.9.2"
  }
 },
 "nbformat": 4,
 "nbformat_minor": 5
}
