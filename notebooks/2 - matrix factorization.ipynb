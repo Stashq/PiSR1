{
 "metadata": {
  "language_info": {
   "codemirror_mode": {
    "name": "ipython",
    "version": 3
   },
   "file_extension": ".py",
   "mimetype": "text/x-python",
   "name": "python",
   "nbconvert_exporter": "python",
   "pygments_lexer": "ipython3",
   "version": "3.7.8-final"
  },
  "orig_nbformat": 2,
  "kernelspec": {
   "name": "python3",
   "display_name": "Python 3.7.8 64-bit ('env')",
   "metadata": {
    "interpreter": {
     "hash": "adefc96555cdd10e96549a1bd73444e92c6f3993b19384ed1aef2c3182327c63"
    }
   }
  }
 },
 "nbformat": 4,
 "nbformat_minor": 2,
 "cells": [
  {
   "source": [
    "# Matrix factorization"
   ],
   "cell_type": "markdown",
   "metadata": {}
  },
  {
   "cell_type": "code",
   "execution_count": 11,
   "metadata": {},
   "outputs": [
    {
     "output_type": "stream",
     "name": "stdout",
     "text": [
      "The autoreload extension is already loaded. To reload it, use:\n  %reload_ext autoreload\n"
     ]
    }
   ],
   "source": [
    "%load_ext autoreload\n",
    "%autoreload 2\n",
    "\n",
    "import sys; sys.path.append('../')\n",
    "\n",
    "from pathlib import Path\n",
    "\n",
    "import pandas as pd\n",
    "import torch\n",
    "from sklearn.model_selection import train_test_split\n",
    "from sklearn.preprocessing import LabelEncoder\n",
    "\n",
    "from src.models.matrix_factorization import MatrixFactorization, train\n",
    "from src.util.data import get_interactions, get_sparsity_factor\n",
    "from src.util.plot import Plot\n",
    "\n",
    "plot = Plot()\n",
    "\n",
    "RATINGS_PATH = Path('../data/ratings_small.csv')\n",
    "OUTPUT_PATH = Path('../models/matrix-factorization.pt')"
   ]
  },
  {
   "source": [
    "## Data"
   ],
   "cell_type": "markdown",
   "metadata": {}
  },
  {
   "cell_type": "code",
   "execution_count": 12,
   "metadata": {},
   "outputs": [],
   "source": [
    "ratings = pd.read_csv(RATINGS_PATH)"
   ]
  },
  {
   "cell_type": "code",
   "execution_count": 13,
   "metadata": {},
   "outputs": [
    {
     "output_type": "execute_result",
     "data": {
      "text/plain": [
       "LabelEncoder()"
      ]
     },
     "metadata": {},
     "execution_count": 13
    }
   ],
   "source": [
    "user_encoder = LabelEncoder()\n",
    "user_encoder.fit(ratings['userId'].values)\n",
    "\n",
    "movie_encoder = LabelEncoder()\n",
    "movie_encoder.fit(ratings['movieId'].values)"
   ]
  },
  {
   "cell_type": "code",
   "execution_count": 14,
   "metadata": {},
   "outputs": [],
   "source": [
    "train_ratings, test_ratings = train_test_split(\n",
    "    ratings,\n",
    "    test_size=0.05,\n",
    "    stratify=ratings['userId'].values,\n",
    "    random_state=42\n",
    ")"
   ]
  },
  {
   "cell_type": "code",
   "execution_count": 15,
   "metadata": {},
   "outputs": [
    {
     "output_type": "stream",
     "name": "stderr",
     "text": [
      "Building interaction matrix: 100%|██████████| 95003/95003 [00:00<00:00, 2021322.87it/s]\n",
      "Building interaction matrix: 100%|██████████| 5001/5001 [00:00<00:00, 1250564.26it/s]\n"
     ]
    }
   ],
   "source": [
    "train_interactions = get_interactions(\n",
    "    train_ratings,\n",
    "    user_encoder,\n",
    "    movie_encoder\n",
    ")\n",
    "\n",
    "test_interactions = get_interactions(\n",
    "    test_ratings,\n",
    "    user_encoder,\n",
    "    movie_encoder\n",
    ")"
   ]
  },
  {
   "cell_type": "code",
   "execution_count": 16,
   "metadata": {},
   "outputs": [],
   "source": [
    "train_sparsity = get_sparsity_factor(train_interactions)\n",
    "test_sparsity = get_sparsity_factor(test_interactions)"
   ]
  },
  {
   "cell_type": "code",
   "execution_count": 17,
   "metadata": {},
   "outputs": [
    {
     "output_type": "stream",
     "name": "stdout",
     "text": [
      "Train sparsity: 1.562%\nTest sparsity: 0.082%\n"
     ]
    }
   ],
   "source": [
    "print(f'Train sparsity: {(train_sparsity * 100):.3f}%')\n",
    "print(f'Test sparsity: {(test_sparsity * 100):.3f}%')"
   ]
  },
  {
   "source": [
    "## Model"
   ],
   "cell_type": "markdown",
   "metadata": {}
  },
  {
   "cell_type": "code",
   "execution_count": 18,
   "metadata": {},
   "outputs": [],
   "source": [
    "model = MatrixFactorization(\n",
    "    train_interactions,\n",
    "    n_factors=20,\n",
    "    user_encoder=user_encoder,\n",
    "    movie_encoder=movie_encoder,\n",
    ")"
   ]
  },
  {
   "cell_type": "code",
   "execution_count": 19,
   "metadata": {},
   "outputs": [
    {
     "output_type": "stream",
     "name": "stderr",
     "text": [
      "Training:   0%|          | 1/200 [00:01<03:52,  1.17s/it]Train loss: 35.370, Test loss: 36.132\n",
      "Training:   1%|          | 2/200 [00:02<03:48,  1.15s/it]Train loss: 34.480, Test loss: 35.472\n",
      "Training:   2%|▏         | 3/200 [00:03<03:44,  1.14s/it]Train loss: 33.623, Test loss: 34.818\n",
      "Training:   2%|▏         | 4/200 [00:04<03:42,  1.14s/it]Train loss: 32.776, Test loss: 34.177\n",
      "Training:   2%|▎         | 5/200 [00:05<03:41,  1.13s/it]Train loss: 31.947, Test loss: 33.551\n",
      "Training:   3%|▎         | 6/200 [00:06<03:40,  1.14s/it]Train loss: 31.139, Test loss: 32.941\n",
      "Training:   4%|▎         | 7/200 [00:07<03:39,  1.14s/it]Train loss: 30.355, Test loss: 32.347\n",
      "Training:   4%|▍         | 8/200 [00:09<03:38,  1.14s/it]Train loss: 29.595, Test loss: 31.768\n",
      "Training:   4%|▍         | 9/200 [00:10<03:37,  1.14s/it]Train loss: 28.858, Test loss: 31.204\n",
      "Training:   5%|▌         | 10/200 [00:11<03:35,  1.14s/it]Train loss: 28.145, Test loss: 30.655\n",
      "Training:   6%|▌         | 11/200 [00:12<03:34,  1.14s/it]Train loss: 27.454, Test loss: 30.120\n",
      "Training:   6%|▌         | 12/200 [00:13<03:32,  1.13s/it]Train loss: 26.785, Test loss: 29.598\n",
      "Training:   6%|▋         | 13/200 [00:14<03:31,  1.13s/it]Train loss: 26.138, Test loss: 29.090\n",
      "Training:   7%|▋         | 14/200 [00:15<03:32,  1.14s/it]Train loss: 25.510, Test loss: 28.594\n",
      "Training:   8%|▊         | 15/200 [00:17<03:31,  1.14s/it]Train loss: 24.902, Test loss: 28.110\n",
      "Training:   8%|▊         | 16/200 [00:18<03:32,  1.15s/it]Train loss: 24.314, Test loss: 27.638\n",
      "Training:   8%|▊         | 17/200 [00:19<03:30,  1.15s/it]Train loss: 23.743, Test loss: 27.177\n",
      "Training:   9%|▉         | 18/200 [00:20<03:29,  1.15s/it]Train loss: 23.190, Test loss: 26.727\n",
      "Training:  10%|▉         | 19/200 [00:21<03:27,  1.15s/it]Train loss: 22.653, Test loss: 26.288\n",
      "Training:  10%|█         | 20/200 [00:22<03:24,  1.14s/it]Train loss: 22.132, Test loss: 25.858\n",
      "Training:  10%|█         | 21/200 [00:23<03:22,  1.13s/it]Train loss: 21.627, Test loss: 25.439\n",
      "Training:  11%|█         | 22/200 [00:25<03:22,  1.14s/it]Train loss: 21.137, Test loss: 25.029\n",
      "Training:  12%|█▏        | 23/200 [00:26<03:21,  1.14s/it]Train loss: 20.661, Test loss: 24.628\n",
      "Training:  12%|█▏        | 24/200 [00:27<03:22,  1.15s/it]Train loss: 20.199, Test loss: 24.236\n",
      "Training:  12%|█▎        | 25/200 [00:28<03:23,  1.16s/it]Train loss: 19.749, Test loss: 23.852\n",
      "Training:  13%|█▎        | 26/200 [00:29<03:20,  1.15s/it]Train loss: 19.313, Test loss: 23.477\n",
      "Training:  14%|█▎        | 27/200 [00:30<03:18,  1.15s/it]Train loss: 18.888, Test loss: 23.109\n",
      "Training:  14%|█▍        | 28/200 [00:31<03:16,  1.14s/it]Train loss: 18.475, Test loss: 22.750\n",
      "Training:  14%|█▍        | 29/200 [00:33<03:15,  1.15s/it]Train loss: 18.073, Test loss: 22.397\n",
      "Training:  15%|█▌        | 30/200 [00:34<03:22,  1.19s/it]Train loss: 17.683, Test loss: 22.052\n",
      "Training:  16%|█▌        | 31/200 [00:35<03:21,  1.19s/it]Train loss: 17.302, Test loss: 21.714\n",
      "Training:  16%|█▌        | 32/200 [00:36<03:20,  1.19s/it]Train loss: 16.932, Test loss: 21.383\n",
      "Training:  16%|█▋        | 33/200 [00:38<03:19,  1.19s/it]Train loss: 16.571, Test loss: 21.058\n",
      "Training:  17%|█▋        | 34/200 [00:39<03:16,  1.18s/it]Train loss: 16.219, Test loss: 20.740\n",
      "Training:  18%|█▊        | 35/200 [00:40<03:13,  1.17s/it]Train loss: 15.876, Test loss: 20.428\n",
      "Training:  18%|█▊        | 36/200 [00:41<03:13,  1.18s/it]Train loss: 15.542, Test loss: 20.122\n",
      "Training:  18%|█▊        | 37/200 [00:42<03:12,  1.18s/it]Train loss: 15.216, Test loss: 19.821\n",
      "Training:  19%|█▉        | 38/200 [00:43<03:08,  1.16s/it]Train loss: 14.899, Test loss: 19.527\n",
      "Training:  20%|█▉        | 39/200 [00:44<03:05,  1.15s/it]Train loss: 14.589, Test loss: 19.237\n",
      "Training:  20%|██        | 40/200 [00:46<03:03,  1.15s/it]Train loss: 14.286, Test loss: 18.954\n",
      "Training:  20%|██        | 41/200 [00:47<03:05,  1.16s/it]Train loss: 13.991, Test loss: 18.675\n",
      "Training:  21%|██        | 42/200 [00:48<03:04,  1.17s/it]Train loss: 13.702, Test loss: 18.401\n",
      "Training:  22%|██▏       | 43/200 [00:49<03:04,  1.18s/it]Train loss: 13.421, Test loss: 18.132\n",
      "Training:  22%|██▏       | 44/200 [00:50<03:02,  1.17s/it]Train loss: 13.146, Test loss: 17.868\n",
      "Training:  22%|██▎       | 45/200 [00:51<03:00,  1.17s/it]Train loss: 12.877, Test loss: 17.609\n",
      "Training:  23%|██▎       | 46/200 [00:53<02:58,  1.16s/it]Train loss: 12.615, Test loss: 17.354\n",
      "Training:  24%|██▎       | 47/200 [00:54<02:57,  1.16s/it]Train loss: 12.358, Test loss: 17.103\n",
      "Training:  24%|██▍       | 48/200 [00:55<02:55,  1.15s/it]Train loss: 12.107, Test loss: 16.857\n",
      "Training:  24%|██▍       | 49/200 [00:56<02:54,  1.16s/it]Train loss: 11.862, Test loss: 16.615\n",
      "Training:  25%|██▌       | 50/200 [00:57<02:52,  1.15s/it]Train loss: 11.622, Test loss: 16.377\n",
      "Training:  26%|██▌       | 51/200 [00:58<02:51,  1.15s/it]Train loss: 11.387, Test loss: 16.143\n",
      "Training:  26%|██▌       | 52/200 [01:00<02:50,  1.16s/it]Train loss: 11.157, Test loss: 15.913\n",
      "Training:  26%|██▋       | 53/200 [01:01<02:49,  1.16s/it]Train loss: 10.933, Test loss: 15.687\n",
      "Training:  27%|██▋       | 54/200 [01:02<02:47,  1.15s/it]Train loss: 10.713, Test loss: 15.464\n",
      "Training:  28%|██▊       | 55/200 [01:03<02:46,  1.15s/it]Train loss: 10.498, Test loss: 15.246\n",
      "Training:  28%|██▊       | 56/200 [01:04<02:46,  1.15s/it]Train loss: 10.287, Test loss: 15.030\n",
      "Training:  28%|██▊       | 57/200 [01:05<02:45,  1.16s/it]Train loss: 10.081, Test loss: 14.818\n",
      "Training:  29%|██▉       | 58/200 [01:07<02:48,  1.19s/it]Train loss: 9.879, Test loss: 14.610\n",
      "Training:  30%|██▉       | 59/200 [01:08<02:50,  1.21s/it]Train loss: 9.681, Test loss: 14.405\n",
      "Training:  30%|███       | 60/200 [01:09<02:53,  1.24s/it]Train loss: 9.487, Test loss: 14.203\n",
      "Training:  30%|███       | 61/200 [01:10<02:55,  1.26s/it]Train loss: 9.298, Test loss: 14.004\n",
      "Training:  31%|███       | 62/200 [01:12<02:54,  1.27s/it]Train loss: 9.112, Test loss: 13.808\n",
      "Training:  32%|███▏      | 63/200 [01:13<02:53,  1.27s/it]Train loss: 8.930, Test loss: 13.616\n",
      "Training:  32%|███▏      | 64/200 [01:14<02:49,  1.24s/it]Train loss: 8.751, Test loss: 13.426\n",
      "Training:  32%|███▎      | 65/200 [01:15<02:47,  1.24s/it]Train loss: 8.577, Test loss: 13.240\n",
      "Training:  33%|███▎      | 66/200 [01:17<02:44,  1.23s/it]Train loss: 8.405, Test loss: 13.056\n",
      "Training:  34%|███▎      | 67/200 [01:18<02:41,  1.22s/it]Train loss: 8.238, Test loss: 12.875\n",
      "Training:  34%|███▍      | 68/200 [01:19<02:39,  1.20s/it]Train loss: 8.073, Test loss: 12.697\n",
      "Training:  34%|███▍      | 69/200 [01:20<02:37,  1.20s/it]Train loss: 7.912, Test loss: 12.522\n",
      "Training:  35%|███▌      | 70/200 [01:21<02:35,  1.19s/it]Train loss: 7.754, Test loss: 12.350\n",
      "Training:  36%|███▌      | 71/200 [01:23<02:33,  1.19s/it]Train loss: 7.599, Test loss: 12.180\n",
      "Training:  36%|███▌      | 72/200 [01:24<02:32,  1.19s/it]Train loss: 7.448, Test loss: 12.013\n",
      "Training:  36%|███▋      | 73/200 [01:25<02:31,  1.20s/it]Train loss: 7.299, Test loss: 11.848\n",
      "Training:  37%|███▋      | 74/200 [01:26<02:29,  1.19s/it]Train loss: 7.154, Test loss: 11.686\n",
      "Training:  38%|███▊      | 75/200 [01:27<02:28,  1.19s/it]Train loss: 7.011, Test loss: 11.527\n",
      "Training:  38%|███▊      | 76/200 [01:28<02:27,  1.19s/it]Train loss: 6.871, Test loss: 11.370\n",
      "Training:  38%|███▊      | 77/200 [01:30<02:25,  1.19s/it]Train loss: 6.734, Test loss: 11.215\n",
      "Training:  39%|███▉      | 78/200 [01:31<02:24,  1.18s/it]Train loss: 6.600, Test loss: 11.063\n",
      "Training:  40%|███▉      | 79/200 [01:32<02:23,  1.18s/it]Train loss: 6.468, Test loss: 10.913\n",
      "Training:  40%|████      | 80/200 [01:33<02:21,  1.18s/it]Train loss: 6.339, Test loss: 10.766\n",
      "Training:  40%|████      | 81/200 [01:34<02:19,  1.18s/it]Train loss: 6.213, Test loss: 10.621\n",
      "Training:  41%|████      | 82/200 [01:36<02:18,  1.17s/it]Train loss: 6.089, Test loss: 10.478\n",
      "Training:  42%|████▏     | 83/200 [01:37<02:16,  1.17s/it]Train loss: 5.968, Test loss: 10.338\n",
      "Training:  42%|████▏     | 84/200 [01:38<02:16,  1.17s/it]Train loss: 5.849, Test loss: 10.200\n",
      "Training:  42%|████▎     | 85/200 [01:39<02:14,  1.17s/it]Train loss: 5.733, Test loss: 10.064\n",
      "Training:  43%|████▎     | 86/200 [01:40<02:14,  1.18s/it]Train loss: 5.619, Test loss: 9.930\n",
      "Training:  44%|████▎     | 87/200 [01:41<02:13,  1.18s/it]Train loss: 5.508, Test loss: 9.799\n",
      "Training:  44%|████▍     | 88/200 [01:43<02:11,  1.18s/it]Train loss: 5.399, Test loss: 9.670\n",
      "Training:  44%|████▍     | 89/200 [01:44<02:10,  1.18s/it]Train loss: 5.292, Test loss: 9.543\n",
      "Training:  45%|████▌     | 90/200 [01:45<02:10,  1.19s/it]Train loss: 5.187, Test loss: 9.418\n",
      "Training:  46%|████▌     | 91/200 [01:46<02:11,  1.21s/it]Train loss: 5.085, Test loss: 9.295\n",
      "Training:  46%|████▌     | 92/200 [01:48<02:13,  1.24s/it]Train loss: 4.985, Test loss: 9.174\n",
      "Training:  46%|████▋     | 93/200 [01:49<02:12,  1.24s/it]Train loss: 4.887, Test loss: 9.055\n",
      "Training:  47%|████▋     | 94/200 [01:50<02:10,  1.24s/it]Train loss: 4.791, Test loss: 8.939\n",
      "Training:  48%|████▊     | 95/200 [01:51<02:09,  1.23s/it]Train loss: 4.697, Test loss: 8.824\n",
      "Training:  48%|████▊     | 96/200 [01:52<02:06,  1.22s/it]Train loss: 4.605, Test loss: 8.712\n",
      "Training:  48%|████▊     | 97/200 [01:54<02:04,  1.21s/it]Train loss: 4.515, Test loss: 8.601\n",
      "Training:  49%|████▉     | 98/200 [01:55<02:01,  1.19s/it]Train loss: 4.427, Test loss: 8.492\n",
      "Training:  50%|████▉     | 99/200 [01:56<01:59,  1.18s/it]Train loss: 4.342, Test loss: 8.385\n",
      "Training:  50%|█████     | 100/200 [01:57<01:57,  1.17s/it]Train loss: 4.258, Test loss: 8.280\n",
      "Training:  50%|█████     | 101/200 [01:58<01:55,  1.17s/it]Train loss: 4.176, Test loss: 8.177\n",
      "Training:  51%|█████     | 102/200 [01:59<01:53,  1.16s/it]Train loss: 4.096, Test loss: 8.076\n",
      "Training:  52%|█████▏    | 103/200 [02:00<01:51,  1.15s/it]Train loss: 4.017, Test loss: 7.977\n",
      "Training:  52%|█████▏    | 104/200 [02:02<01:50,  1.15s/it]Train loss: 3.941, Test loss: 7.880\n",
      "Training:  52%|█████▎    | 105/200 [02:03<01:48,  1.15s/it]Train loss: 3.866, Test loss: 7.784\n",
      "Training:  53%|█████▎    | 106/200 [02:04<01:47,  1.15s/it]Train loss: 3.793, Test loss: 7.690\n",
      "Training:  54%|█████▎    | 107/200 [02:05<01:47,  1.15s/it]Train loss: 3.721, Test loss: 7.598\n",
      "Training:  54%|█████▍    | 108/200 [02:06<01:45,  1.15s/it]Train loss: 3.652, Test loss: 7.507\n",
      "Training:  55%|█████▍    | 109/200 [02:07<01:44,  1.15s/it]Train loss: 3.584, Test loss: 7.418\n",
      "Training:  55%|█████▌    | 110/200 [02:09<01:43,  1.15s/it]Train loss: 3.517, Test loss: 7.331\n",
      "Training:  56%|█████▌    | 111/200 [02:10<01:42,  1.15s/it]Train loss: 3.452, Test loss: 7.246\n",
      "Training:  56%|█████▌    | 112/200 [02:11<01:40,  1.15s/it]Train loss: 3.389, Test loss: 7.162\n",
      "Training:  56%|█████▋    | 113/200 [02:12<01:39,  1.15s/it]Train loss: 3.327, Test loss: 7.079\n",
      "Training:  57%|█████▋    | 114/200 [02:13<01:38,  1.14s/it]Train loss: 3.266, Test loss: 6.999\n",
      "Training:  57%|█████▊    | 115/200 [02:14<01:37,  1.14s/it]Train loss: 3.207, Test loss: 6.920\n",
      "Training:  58%|█████▊    | 116/200 [02:15<01:35,  1.14s/it]Train loss: 3.150, Test loss: 6.842\n",
      "Training:  58%|█████▊    | 117/200 [02:17<01:34,  1.14s/it]Train loss: 3.093, Test loss: 6.766\n",
      "Training:  59%|█████▉    | 118/200 [02:18<01:34,  1.15s/it]Train loss: 3.039, Test loss: 6.691\n",
      "Training:  60%|█████▉    | 119/200 [02:19<01:33,  1.15s/it]Train loss: 2.985, Test loss: 6.617\n",
      "Training:  60%|██████    | 120/200 [02:20<01:31,  1.15s/it]Train loss: 2.933, Test loss: 6.545\n",
      "Training:  60%|██████    | 121/200 [02:21<01:30,  1.15s/it]Train loss: 2.882, Test loss: 6.475\n",
      "Training:  61%|██████    | 122/200 [02:22<01:29,  1.14s/it]Train loss: 2.832, Test loss: 6.406\n",
      "Training:  62%|██████▏   | 123/200 [02:23<01:27,  1.14s/it]Train loss: 2.783, Test loss: 6.338\n",
      "Training:  62%|██████▏   | 124/200 [02:25<01:26,  1.14s/it]Train loss: 2.736, Test loss: 6.271\n",
      "Training:  62%|██████▎   | 125/200 [02:26<01:25,  1.14s/it]Train loss: 2.689, Test loss: 6.206\n",
      "Training:  63%|██████▎   | 126/200 [02:27<01:24,  1.14s/it]Train loss: 2.644, Test loss: 6.142\n",
      "Training:  64%|██████▎   | 127/200 [02:28<01:23,  1.14s/it]Train loss: 2.600, Test loss: 6.079\n",
      "Training:  64%|██████▍   | 128/200 [02:29<01:22,  1.14s/it]Train loss: 2.557, Test loss: 6.017\n",
      "Training:  64%|██████▍   | 129/200 [02:30<01:21,  1.14s/it]Train loss: 2.515, Test loss: 5.956\n",
      "Training:  65%|██████▌   | 130/200 [02:31<01:20,  1.14s/it]Train loss: 2.474, Test loss: 5.897\n",
      "Training:  66%|██████▌   | 131/200 [02:33<01:18,  1.14s/it]Train loss: 2.434, Test loss: 5.839\n",
      "Training:  66%|██████▌   | 132/200 [02:34<01:17,  1.14s/it]Train loss: 2.395, Test loss: 5.782\n",
      "Training:  66%|██████▋   | 133/200 [02:35<01:16,  1.14s/it]Train loss: 2.357, Test loss: 5.726\n",
      "Training:  67%|██████▋   | 134/200 [02:36<01:15,  1.14s/it]Train loss: 2.319, Test loss: 5.671\n",
      "Training:  68%|██████▊   | 135/200 [02:37<01:14,  1.14s/it]Train loss: 2.283, Test loss: 5.617\n",
      "Training:  68%|██████▊   | 136/200 [02:38<01:13,  1.14s/it]Train loss: 2.247, Test loss: 5.564\n",
      "Training:  68%|██████▊   | 137/200 [02:39<01:12,  1.15s/it]Train loss: 2.213, Test loss: 5.512\n",
      "Training:  69%|██████▉   | 138/200 [02:41<01:11,  1.15s/it]Train loss: 2.179, Test loss: 5.461\n",
      "Training:  70%|██████▉   | 139/200 [02:42<01:09,  1.15s/it]Train loss: 2.146, Test loss: 5.410\n",
      "Training:  70%|███████   | 140/200 [02:43<01:08,  1.14s/it]Train loss: 2.114, Test loss: 5.361\n",
      "Training:  70%|███████   | 141/200 [02:44<01:07,  1.14s/it]Train loss: 2.082, Test loss: 5.313\n",
      "Training:  71%|███████   | 142/200 [02:45<01:06,  1.14s/it]Train loss: 2.051, Test loss: 5.266\n",
      "Training:  72%|███████▏  | 143/200 [02:46<01:04,  1.14s/it]Train loss: 2.021, Test loss: 5.219\n",
      "Training:  72%|███████▏  | 144/200 [02:47<01:03,  1.14s/it]Train loss: 1.992, Test loss: 5.173\n",
      "Training:  72%|███████▎  | 145/200 [02:49<01:02,  1.14s/it]Train loss: 1.963, Test loss: 5.128\n",
      "Training:  73%|███████▎  | 146/200 [02:50<01:01,  1.14s/it]Train loss: 1.935, Test loss: 5.084\n",
      "Training:  74%|███████▎  | 147/200 [02:51<01:00,  1.14s/it]Train loss: 1.908, Test loss: 5.041\n",
      "Training:  74%|███████▍  | 148/200 [02:52<00:59,  1.14s/it]Train loss: 1.881, Test loss: 4.999\n",
      "Training:  74%|███████▍  | 149/200 [02:53<00:58,  1.14s/it]Train loss: 1.855, Test loss: 4.957\n",
      "Training:  75%|███████▌  | 150/200 [02:54<00:56,  1.14s/it]Train loss: 1.829, Test loss: 4.916\n",
      "Training:  76%|███████▌  | 151/200 [02:55<00:55,  1.14s/it]Train loss: 1.804, Test loss: 4.876\n",
      "Training:  76%|███████▌  | 152/200 [02:56<00:54,  1.14s/it]Train loss: 1.779, Test loss: 4.836\n",
      "Training:  76%|███████▋  | 153/200 [02:58<00:53,  1.14s/it]Train loss: 1.756, Test loss: 4.797\n",
      "Training:  77%|███████▋  | 154/200 [02:59<00:52,  1.14s/it]Train loss: 1.732, Test loss: 4.759\n",
      "Training:  78%|███████▊  | 155/200 [03:00<00:51,  1.14s/it]Train loss: 1.709, Test loss: 4.721\n",
      "Training:  78%|███████▊  | 156/200 [03:01<00:50,  1.14s/it]Train loss: 1.687, Test loss: 4.684\n",
      "Training:  78%|███████▊  | 157/200 [03:02<00:49,  1.15s/it]Train loss: 1.665, Test loss: 4.648\n",
      "Training:  79%|███████▉  | 158/200 [03:03<00:48,  1.15s/it]Train loss: 1.644, Test loss: 4.612\n",
      "Training:  80%|███████▉  | 159/200 [03:04<00:46,  1.14s/it]Train loss: 1.623, Test loss: 4.577\n",
      "Training:  80%|████████  | 160/200 [03:06<00:45,  1.14s/it]Train loss: 1.602, Test loss: 4.543\n",
      "Training:  80%|████████  | 161/200 [03:07<00:44,  1.14s/it]Train loss: 1.582, Test loss: 4.509\n",
      "Training:  81%|████████  | 162/200 [03:08<00:43,  1.14s/it]Train loss: 1.563, Test loss: 4.476\n",
      "Training:  82%|████████▏ | 163/200 [03:09<00:42,  1.14s/it]Train loss: 1.543, Test loss: 4.443\n",
      "Training:  82%|████████▏ | 164/200 [03:10<00:41,  1.14s/it]Train loss: 1.525, Test loss: 4.411\n",
      "Training:  82%|████████▎ | 165/200 [03:11<00:40,  1.14s/it]Train loss: 1.506, Test loss: 4.379\n",
      "Training:  83%|████████▎ | 166/200 [03:12<00:38,  1.15s/it]Train loss: 1.488, Test loss: 4.348\n",
      "Training:  84%|████████▎ | 167/200 [03:14<00:37,  1.15s/it]Train loss: 1.471, Test loss: 4.317\n",
      "Training:  84%|████████▍ | 168/200 [03:15<00:36,  1.15s/it]Train loss: 1.453, Test loss: 4.287\n",
      "Training:  84%|████████▍ | 169/200 [03:16<00:35,  1.14s/it]Train loss: 1.437, Test loss: 4.257\n",
      "Training:  85%|████████▌ | 170/200 [03:17<00:34,  1.14s/it]Train loss: 1.420, Test loss: 4.228\n",
      "Training:  86%|████████▌ | 171/200 [03:18<00:33,  1.14s/it]Train loss: 1.404, Test loss: 4.199\n",
      "Training:  86%|████████▌ | 172/200 [03:19<00:31,  1.14s/it]Train loss: 1.388, Test loss: 4.171\n",
      "Training:  86%|████████▋ | 173/200 [03:20<00:30,  1.14s/it]Train loss: 1.372, Test loss: 4.143\n",
      "Training:  87%|████████▋ | 174/200 [03:22<00:29,  1.15s/it]Train loss: 1.357, Test loss: 4.116\n",
      "Training:  88%|████████▊ | 175/200 [03:23<00:28,  1.14s/it]Train loss: 1.342, Test loss: 4.089\n",
      "Training:  88%|████████▊ | 176/200 [03:24<00:27,  1.15s/it]Train loss: 1.328, Test loss: 4.062\n",
      "Training:  88%|████████▊ | 177/200 [03:25<00:26,  1.14s/it]Train loss: 1.313, Test loss: 4.036\n",
      "Training:  89%|████████▉ | 178/200 [03:26<00:25,  1.14s/it]Train loss: 1.299, Test loss: 4.010\n",
      "Training:  90%|████████▉ | 179/200 [03:27<00:23,  1.14s/it]Train loss: 1.285, Test loss: 3.985\n",
      "Training:  90%|█████████ | 180/200 [03:28<00:22,  1.14s/it]Train loss: 1.272, Test loss: 3.960\n",
      "Training:  90%|█████████ | 181/200 [03:30<00:21,  1.14s/it]Train loss: 1.259, Test loss: 3.935\n",
      "Training:  91%|█████████ | 182/200 [03:31<00:20,  1.13s/it]Train loss: 1.246, Test loss: 3.911\n",
      "Training:  92%|█████████▏| 183/200 [03:32<00:19,  1.14s/it]Train loss: 1.233, Test loss: 3.887\n",
      "Training:  92%|█████████▏| 184/200 [03:33<00:18,  1.14s/it]Train loss: 1.221, Test loss: 3.864\n",
      "Training:  92%|█████████▎| 185/200 [03:34<00:17,  1.13s/it]Train loss: 1.208, Test loss: 3.841\n",
      "Training:  93%|█████████▎| 186/200 [03:35<00:15,  1.13s/it]Train loss: 1.196, Test loss: 3.818\n",
      "Training:  94%|█████████▎| 187/200 [03:36<00:14,  1.13s/it]Train loss: 1.185, Test loss: 3.796\n",
      "Training:  94%|█████████▍| 188/200 [03:38<00:13,  1.13s/it]Train loss: 1.173, Test loss: 3.773\n",
      "Training:  94%|█████████▍| 189/200 [03:39<00:12,  1.15s/it]Train loss: 1.162, Test loss: 3.752\n",
      "Training:  95%|█████████▌| 190/200 [03:40<00:11,  1.14s/it]Train loss: 1.151, Test loss: 3.730\n",
      "Training:  96%|█████████▌| 191/200 [03:41<00:10,  1.14s/it]Train loss: 1.140, Test loss: 3.709\n",
      "Training:  96%|█████████▌| 192/200 [03:42<00:09,  1.14s/it]Train loss: 1.129, Test loss: 3.688\n",
      "Training:  96%|█████████▋| 193/200 [03:43<00:07,  1.14s/it]Train loss: 1.118, Test loss: 3.668\n",
      "Training:  97%|█████████▋| 194/200 [03:44<00:06,  1.14s/it]Train loss: 1.108, Test loss: 3.648\n",
      "Training:  98%|█████████▊| 195/200 [03:46<00:05,  1.14s/it]Train loss: 1.098, Test loss: 3.628\n",
      "Training:  98%|█████████▊| 196/200 [03:47<00:04,  1.14s/it]Train loss: 1.088, Test loss: 3.608\n",
      "Training:  98%|█████████▊| 197/200 [03:48<00:03,  1.14s/it]Train loss: 1.078, Test loss: 3.589\n",
      "Training:  99%|█████████▉| 198/200 [03:49<00:02,  1.14s/it]Train loss: 1.069, Test loss: 3.570\n",
      "Training: 100%|█████████▉| 199/200 [03:50<00:01,  1.14s/it]Train loss: 1.059, Test loss: 3.551\n",
      "Training: 100%|██████████| 200/200 [03:51<00:00,  1.16s/it]Train loss: 1.050, Test loss: 3.532\n",
      "\n"
     ]
    }
   ],
   "source": [
    "train_loss_history, test_loss_history = train(\n",
    "    model,\n",
    "    train_interactions,\n",
    "    test_interactions,\n",
    "    epochs=200,\n",
    "    batch_size=5000,\n",
    "    verbose=1\n",
    ")"
   ]
  },
  {
   "cell_type": "code",
   "execution_count": 20,
   "metadata": {},
   "outputs": [
    {
     "output_type": "display_data",
     "data": {
      "application/vnd.plotly.v1+json": {
       "config": {
        "plotlyServerURL": "https://plot.ly"
       },
       "data": [
        {
         "mode": "lines",
         "name": "Train",
         "type": "scatter",
         "x": [
          0,
          1,
          2,
          3,
          4,
          5,
          6,
          7,
          8,
          9,
          10,
          11,
          12,
          13,
          14,
          15,
          16,
          17,
          18,
          19,
          20,
          21,
          22,
          23,
          24,
          25,
          26,
          27,
          28,
          29,
          30,
          31,
          32,
          33,
          34,
          35,
          36,
          37,
          38,
          39,
          40,
          41,
          42,
          43,
          44,
          45,
          46,
          47,
          48,
          49,
          50,
          51,
          52,
          53,
          54,
          55,
          56,
          57,
          58,
          59,
          60,
          61,
          62,
          63,
          64,
          65,
          66,
          67,
          68,
          69,
          70,
          71,
          72,
          73,
          74,
          75,
          76,
          77,
          78,
          79,
          80,
          81,
          82,
          83,
          84,
          85,
          86,
          87,
          88,
          89,
          90,
          91,
          92,
          93,
          94,
          95,
          96,
          97,
          98,
          99,
          100,
          101,
          102,
          103,
          104,
          105,
          106,
          107,
          108,
          109,
          110,
          111,
          112,
          113,
          114,
          115,
          116,
          117,
          118,
          119,
          120,
          121,
          122,
          123,
          124,
          125,
          126,
          127,
          128,
          129,
          130,
          131,
          132,
          133,
          134,
          135,
          136,
          137,
          138,
          139,
          140,
          141,
          142,
          143,
          144,
          145,
          146,
          147,
          148,
          149,
          150,
          151,
          152,
          153,
          154,
          155,
          156,
          157,
          158,
          159,
          160,
          161,
          162,
          163,
          164,
          165,
          166,
          167,
          168,
          169,
          170,
          171,
          172,
          173,
          174,
          175,
          176,
          177,
          178,
          179,
          180,
          181,
          182,
          183,
          184,
          185,
          186,
          187,
          188,
          189,
          190,
          191,
          192,
          193,
          194,
          195,
          196,
          197,
          198,
          199
         ],
         "y": [
          35.36989240646362,
          34.479659056663515,
          33.62327694892883,
          32.77606554031372,
          31.946656680107118,
          31.139110970497132,
          30.35500285625458,
          29.594742155075075,
          28.858170056343077,
          28.144824862480164,
          27.454084181785582,
          26.785237061977387,
          26.137532424926757,
          25.510203790664672,
          24.90248646736145,
          24.313627237081526,
          23.742893427610397,
          23.189571315050124,
          22.652972286939622,
          22.132434141635894,
          21.627318495512007,
          21.137014681100844,
          20.660936331748964,
          20.198521411418916,
          19.749234533309938,
          19.31256097406149,
          18.88801220357418,
          18.47512083053589,
          18.073439897596835,
          17.682543683052064,
          17.302026143670084,
          16.931501457095145,
          16.570599680393933,
          16.218968387693167,
          15.876272083073854,
          15.542191831022501,
          15.216421216726303,
          14.89867007508874,
          14.588660169392824,
          14.286127332225442,
          13.990816923044623,
          13.702489847317338,
          13.420913960412145,
          13.145870307087899,
          12.877148322947324,
          12.61454705838114,
          12.357875303924084,
          12.106949183158576,
          11.861593359522521,
          11.621640428109094,
          11.386930562136694,
          11.157310235965998,
          10.932632504450158,
          10.712757581169717,
          10.497551236627624,
          10.286885322909802,
          10.080636866088025,
          9.878688441577832,
          9.680927635612898,
          9.487246131012217,
          9.297541568940506,
          9.111715074710082,
          8.929672444693278,
          8.751322629646165,
          8.576579889038111,
          8.405360866046976,
          8.237585969397333,
          8.07317925337702,
          7.9120677689148575,
          7.7541821119666565,
          7.599454650629196,
          7.447821285715326,
          7.29922072578338,
          7.153593170881504,
          7.0108822146547025,
          6.871032675352763,
          6.7339924721600255,
          6.599710371854599,
          6.46813788433501,
          6.339227162208408,
          6.212933202562271,
          6.089211363857612,
          5.968019100953825,
          5.849314396173577,
          5.733057019140688,
          5.619207367172931,
          5.507727144175442,
          5.398578412673669,
          5.291724216370494,
          5.187128382100491,
          5.084755335660884,
          4.984569814786664,
          4.886537079670234,
          4.790622915769927,
          4.696793559705839,
          4.605014918546658,
          4.515253993382794,
          4.427477358723991,
          4.341652041513589,
          4.257745113619603,
          4.175723697082139,
          4.095555202633841,
          4.017207032849546,
          3.940646719424694,
          3.865841619769344,
          3.792759406694677,
          3.7213679060398137,
          3.6516347253054846,
          3.5835277043035605,
          3.5170149777201005,
          3.452064525707101,
          3.3886445208627265,
          3.326723313056573,
          3.2662695226143112,
          3.207251886888116,
          3.149639265114092,
          3.0934008896976595,
          3.0385063032794277,
          2.984925155050587,
          2.9326274760867816,
          2.8815836663809025,
          2.8317643768823473,
          2.7831407829988164,
          2.735684358197614,
          2.6893669567332834,
          2.6441609351022635,
          2.6000389698616346,
          2.5569741806859385,
          2.514940362180641,
          2.473911567655159,
          2.43386243575369,
          2.394767995958682,
          2.356603903886571,
          2.3193462465307677,
          2.282971576746786,
          2.2474570173508255,
          2.2127801224123687,
          2.1789191823103464,
          2.1458526335161876,
          2.1135597558590233,
          2.082020130007004,
          2.0512138711143053,
          2.021121584372304,
          1.9917244470467268,
          1.9630040171468863,
          1.9349423827923602,
          1.90752208095073,
          1.880726123478962,
          1.854537911540683,
          1.828941392438719,
          1.8039209030655912,
          1.7794611298450036,
          1.7555473451429862,
          1.732165095153323,
          1.7093003775706166,
          1.6869395326531957,
          1.6650693448922538,
          1.6436768683044647,
          1.6227496930936467,
          1.6022756841171941,
          1.58224296188273,
          1.5626400763867423,
          1.5434558394037594,
          1.5246794748454704,
          1.5063004148418258,
          1.4883084610191872,
          1.4706936531641985,
          1.453446329565486,
          1.4365572031056217,
          1.4200170956341025,
          1.4038171431846422,
          1.3879487927388254,
          1.3724036754952977,
          1.3571737274596671,
          1.3422509437263215,
          1.327627777618909,
          1.313296755344345,
          1.299250646013752,
          1.2854824107907916,
          1.2719852427992009,
          1.2587524786456925,
          1.2457776678085792,
          1.2330545823184367,
          1.2205770529893925,
          1.2083392326814646,
          1.1963353221326543,
          1.1845597481162258,
          1.173007002293525,
          1.1616718814537308,
          1.1505491348842043,
          1.139633856398359,
          1.1289210876500875,
          1.1184061547617603,
          1.1080844210187935,
          1.097951428723718,
          1.0880027707658884,
          1.0782342293601688,
          1.0686417026645358,
          1.059221119218637,
          1.0499685398950533
         ]
        },
        {
         "mode": "lines",
         "name": "Test",
         "type": "scatter",
         "x": [
          0,
          1,
          2,
          3,
          4,
          5,
          6,
          7,
          8,
          9,
          10,
          11,
          12,
          13,
          14,
          15,
          16,
          17,
          18,
          19,
          20,
          21,
          22,
          23,
          24,
          25,
          26,
          27,
          28,
          29,
          30,
          31,
          32,
          33,
          34,
          35,
          36,
          37,
          38,
          39,
          40,
          41,
          42,
          43,
          44,
          45,
          46,
          47,
          48,
          49,
          50,
          51,
          52,
          53,
          54,
          55,
          56,
          57,
          58,
          59,
          60,
          61,
          62,
          63,
          64,
          65,
          66,
          67,
          68,
          69,
          70,
          71,
          72,
          73,
          74,
          75,
          76,
          77,
          78,
          79,
          80,
          81,
          82,
          83,
          84,
          85,
          86,
          87,
          88,
          89,
          90,
          91,
          92,
          93,
          94,
          95,
          96,
          97,
          98,
          99,
          100,
          101,
          102,
          103,
          104,
          105,
          106,
          107,
          108,
          109,
          110,
          111,
          112,
          113,
          114,
          115,
          116,
          117,
          118,
          119,
          120,
          121,
          122,
          123,
          124,
          125,
          126,
          127,
          128,
          129,
          130,
          131,
          132,
          133,
          134,
          135,
          136,
          137,
          138,
          139,
          140,
          141,
          142,
          143,
          144,
          145,
          146,
          147,
          148,
          149,
          150,
          151,
          152,
          153,
          154,
          155,
          156,
          157,
          158,
          159,
          160,
          161,
          162,
          163,
          164,
          165,
          166,
          167,
          168,
          169,
          170,
          171,
          172,
          173,
          174,
          175,
          176,
          177,
          178,
          179,
          180,
          181,
          182,
          183,
          184,
          185,
          186,
          187,
          188,
          189,
          190,
          191,
          192,
          193,
          194,
          195,
          196,
          197,
          198,
          199
         ],
         "y": [
          36.1319465637207,
          35.472232818603516,
          34.81803512573242,
          34.17681884765625,
          33.55095672607422,
          32.94097900390625,
          32.34678268432617,
          31.768028259277344,
          31.20427131652832,
          30.65503692626953,
          30.11983871459961,
          29.598186492919922,
          29.089601516723633,
          28.593618392944336,
          28.109792709350586,
          27.637683868408203,
          27.1768741607666,
          26.726957321166992,
          26.287546157836914,
          25.858264923095703,
          25.438762664794922,
          25.02869987487793,
          24.627758026123047,
          24.23563003540039,
          23.85202407836914,
          23.476654052734375,
          23.109256744384766,
          22.749568939208984,
          22.3973388671875,
          22.052330017089844,
          21.714313507080078,
          21.383066177368164,
          21.058380126953125,
          20.74005889892578,
          20.42790412902832,
          20.12173843383789,
          19.82137680053711,
          19.526660919189453,
          19.2374210357666,
          18.953502655029297,
          18.674762725830078,
          18.40105438232422,
          18.13224220275879,
          17.868196487426758,
          17.60879135131836,
          17.353900909423828,
          17.103412628173828,
          16.857219696044922,
          16.615205764770508,
          16.377277374267578,
          16.14333152770996,
          15.913276672363281,
          15.68702220916748,
          15.4644775390625,
          15.245559692382812,
          15.030192375183105,
          14.8182954788208,
          14.60979175567627,
          14.40461540222168,
          14.2026948928833,
          14.003966331481934,
          13.808367729187012,
          13.615838050842285,
          13.426321029663086,
          13.239764213562012,
          13.056112289428711,
          12.875316619873047,
          12.697330474853516,
          12.52210807800293,
          12.34960651397705,
          12.17978286743164,
          12.012598991394043,
          11.848016738891602,
          11.685999870300293,
          11.52651309967041,
          11.369523048400879,
          11.214997291564941,
          11.062906265258789,
          10.913219451904297,
          10.765909194946289,
          10.620945930480957,
          10.47830581665039,
          10.337961196899414,
          10.199886322021484,
          10.064059257507324,
          9.930451393127441,
          9.799043655395508,
          9.669809341430664,
          9.542728424072266,
          9.417776107788086,
          9.294930458068848,
          9.174169540405273,
          9.055472373962402,
          8.938815116882324,
          8.824177742004395,
          8.71153450012207,
          8.600866317749023,
          8.492149353027344,
          8.385360717773438,
          8.280477523803711,
          8.17747688293457,
          8.076335906982422,
          7.977029323577881,
          7.87953519821167,
          7.783825874328613,
          7.689880847930908,
          7.597671985626221,
          7.507176399230957,
          7.418368816375732,
          7.331222057342529,
          7.245711803436279,
          7.161811351776123,
          7.079495906829834,
          6.998737812042236,
          6.919511318206787,
          6.841791152954102,
          6.765550136566162,
          6.690760135650635,
          6.617398262023926,
          6.545435905456543,
          6.474847316741943,
          6.405605792999268,
          6.337687015533447,
          6.271063804626465,
          6.2057108879089355,
          6.141602993011475,
          6.078714847564697,
          6.017021179199219,
          5.956497669219971,
          5.897120475769043,
          5.838864803314209,
          5.781706809997559,
          5.725624084472656,
          5.670592308044434,
          5.6165900230407715,
          5.563593864440918,
          5.511582851409912,
          5.460535049438477,
          5.410429000854492,
          5.361245632171631,
          5.312962532043457,
          5.265561103820801,
          5.219021797180176,
          5.1733245849609375,
          5.128451824188232,
          5.084385395050049,
          5.041107177734375,
          4.998599052429199,
          4.956845283508301,
          4.915827751159668,
          4.875531196594238,
          4.835939407348633,
          4.797036647796631,
          4.758808135986328,
          4.721240043640137,
          4.684316158294678,
          4.64802360534668,
          4.612348556518555,
          4.577277183532715,
          4.542797088623047,
          4.508894443511963,
          4.475558757781982,
          4.442776203155518,
          4.41053581237793,
          4.378825664520264,
          4.347635746002197,
          4.316953659057617,
          4.286769390106201,
          4.257072925567627,
          4.227853775024414,
          4.19910192489624,
          4.1708083152771,
          4.142963409423828,
          4.1155571937561035,
          4.088582515716553,
          4.062029838562012,
          4.035890102386475,
          4.01015567779541,
          3.984818696975708,
          3.9598708152770996,
          3.935305118560791,
          3.9111130237579346,
          3.887288808822632,
          3.8638241291046143,
          3.840712308883667,
          3.8179469108581543,
          3.7955212593078613,
          3.7734289169311523,
          3.7516629695892334,
          3.730217933654785,
          3.7090883255004883,
          3.688267469406128,
          3.667750120162964,
          3.6475298404693604,
          3.6276025772094727,
          3.607961893081665,
          3.5886032581329346,
          3.569521903991699,
          3.5507116317749023,
          3.5321686267852783
         ]
        }
       ],
       "layout": {
        "template": {
         "data": {
          "bar": [
           {
            "error_x": {
             "color": "#2a3f5f"
            },
            "error_y": {
             "color": "#2a3f5f"
            },
            "marker": {
             "line": {
              "color": "#E5ECF6",
              "width": 0.5
             }
            },
            "type": "bar"
           }
          ],
          "barpolar": [
           {
            "marker": {
             "line": {
              "color": "#E5ECF6",
              "width": 0.5
             }
            },
            "type": "barpolar"
           }
          ],
          "carpet": [
           {
            "aaxis": {
             "endlinecolor": "#2a3f5f",
             "gridcolor": "white",
             "linecolor": "white",
             "minorgridcolor": "white",
             "startlinecolor": "#2a3f5f"
            },
            "baxis": {
             "endlinecolor": "#2a3f5f",
             "gridcolor": "white",
             "linecolor": "white",
             "minorgridcolor": "white",
             "startlinecolor": "#2a3f5f"
            },
            "type": "carpet"
           }
          ],
          "choropleth": [
           {
            "colorbar": {
             "outlinewidth": 0,
             "ticks": ""
            },
            "type": "choropleth"
           }
          ],
          "contour": [
           {
            "colorbar": {
             "outlinewidth": 0,
             "ticks": ""
            },
            "colorscale": [
             [
              0,
              "#0d0887"
             ],
             [
              0.1111111111111111,
              "#46039f"
             ],
             [
              0.2222222222222222,
              "#7201a8"
             ],
             [
              0.3333333333333333,
              "#9c179e"
             ],
             [
              0.4444444444444444,
              "#bd3786"
             ],
             [
              0.5555555555555556,
              "#d8576b"
             ],
             [
              0.6666666666666666,
              "#ed7953"
             ],
             [
              0.7777777777777778,
              "#fb9f3a"
             ],
             [
              0.8888888888888888,
              "#fdca26"
             ],
             [
              1,
              "#f0f921"
             ]
            ],
            "type": "contour"
           }
          ],
          "contourcarpet": [
           {
            "colorbar": {
             "outlinewidth": 0,
             "ticks": ""
            },
            "type": "contourcarpet"
           }
          ],
          "heatmap": [
           {
            "colorbar": {
             "outlinewidth": 0,
             "ticks": ""
            },
            "colorscale": [
             [
              0,
              "#0d0887"
             ],
             [
              0.1111111111111111,
              "#46039f"
             ],
             [
              0.2222222222222222,
              "#7201a8"
             ],
             [
              0.3333333333333333,
              "#9c179e"
             ],
             [
              0.4444444444444444,
              "#bd3786"
             ],
             [
              0.5555555555555556,
              "#d8576b"
             ],
             [
              0.6666666666666666,
              "#ed7953"
             ],
             [
              0.7777777777777778,
              "#fb9f3a"
             ],
             [
              0.8888888888888888,
              "#fdca26"
             ],
             [
              1,
              "#f0f921"
             ]
            ],
            "type": "heatmap"
           }
          ],
          "heatmapgl": [
           {
            "colorbar": {
             "outlinewidth": 0,
             "ticks": ""
            },
            "colorscale": [
             [
              0,
              "#0d0887"
             ],
             [
              0.1111111111111111,
              "#46039f"
             ],
             [
              0.2222222222222222,
              "#7201a8"
             ],
             [
              0.3333333333333333,
              "#9c179e"
             ],
             [
              0.4444444444444444,
              "#bd3786"
             ],
             [
              0.5555555555555556,
              "#d8576b"
             ],
             [
              0.6666666666666666,
              "#ed7953"
             ],
             [
              0.7777777777777778,
              "#fb9f3a"
             ],
             [
              0.8888888888888888,
              "#fdca26"
             ],
             [
              1,
              "#f0f921"
             ]
            ],
            "type": "heatmapgl"
           }
          ],
          "histogram": [
           {
            "marker": {
             "colorbar": {
              "outlinewidth": 0,
              "ticks": ""
             }
            },
            "type": "histogram"
           }
          ],
          "histogram2d": [
           {
            "colorbar": {
             "outlinewidth": 0,
             "ticks": ""
            },
            "colorscale": [
             [
              0,
              "#0d0887"
             ],
             [
              0.1111111111111111,
              "#46039f"
             ],
             [
              0.2222222222222222,
              "#7201a8"
             ],
             [
              0.3333333333333333,
              "#9c179e"
             ],
             [
              0.4444444444444444,
              "#bd3786"
             ],
             [
              0.5555555555555556,
              "#d8576b"
             ],
             [
              0.6666666666666666,
              "#ed7953"
             ],
             [
              0.7777777777777778,
              "#fb9f3a"
             ],
             [
              0.8888888888888888,
              "#fdca26"
             ],
             [
              1,
              "#f0f921"
             ]
            ],
            "type": "histogram2d"
           }
          ],
          "histogram2dcontour": [
           {
            "colorbar": {
             "outlinewidth": 0,
             "ticks": ""
            },
            "colorscale": [
             [
              0,
              "#0d0887"
             ],
             [
              0.1111111111111111,
              "#46039f"
             ],
             [
              0.2222222222222222,
              "#7201a8"
             ],
             [
              0.3333333333333333,
              "#9c179e"
             ],
             [
              0.4444444444444444,
              "#bd3786"
             ],
             [
              0.5555555555555556,
              "#d8576b"
             ],
             [
              0.6666666666666666,
              "#ed7953"
             ],
             [
              0.7777777777777778,
              "#fb9f3a"
             ],
             [
              0.8888888888888888,
              "#fdca26"
             ],
             [
              1,
              "#f0f921"
             ]
            ],
            "type": "histogram2dcontour"
           }
          ],
          "mesh3d": [
           {
            "colorbar": {
             "outlinewidth": 0,
             "ticks": ""
            },
            "type": "mesh3d"
           }
          ],
          "parcoords": [
           {
            "line": {
             "colorbar": {
              "outlinewidth": 0,
              "ticks": ""
             }
            },
            "type": "parcoords"
           }
          ],
          "pie": [
           {
            "automargin": true,
            "type": "pie"
           }
          ],
          "scatter": [
           {
            "marker": {
             "colorbar": {
              "outlinewidth": 0,
              "ticks": ""
             }
            },
            "type": "scatter"
           }
          ],
          "scatter3d": [
           {
            "line": {
             "colorbar": {
              "outlinewidth": 0,
              "ticks": ""
             }
            },
            "marker": {
             "colorbar": {
              "outlinewidth": 0,
              "ticks": ""
             }
            },
            "type": "scatter3d"
           }
          ],
          "scattercarpet": [
           {
            "marker": {
             "colorbar": {
              "outlinewidth": 0,
              "ticks": ""
             }
            },
            "type": "scattercarpet"
           }
          ],
          "scattergeo": [
           {
            "marker": {
             "colorbar": {
              "outlinewidth": 0,
              "ticks": ""
             }
            },
            "type": "scattergeo"
           }
          ],
          "scattergl": [
           {
            "marker": {
             "colorbar": {
              "outlinewidth": 0,
              "ticks": ""
             }
            },
            "type": "scattergl"
           }
          ],
          "scattermapbox": [
           {
            "marker": {
             "colorbar": {
              "outlinewidth": 0,
              "ticks": ""
             }
            },
            "type": "scattermapbox"
           }
          ],
          "scatterpolar": [
           {
            "marker": {
             "colorbar": {
              "outlinewidth": 0,
              "ticks": ""
             }
            },
            "type": "scatterpolar"
           }
          ],
          "scatterpolargl": [
           {
            "marker": {
             "colorbar": {
              "outlinewidth": 0,
              "ticks": ""
             }
            },
            "type": "scatterpolargl"
           }
          ],
          "scatterternary": [
           {
            "marker": {
             "colorbar": {
              "outlinewidth": 0,
              "ticks": ""
             }
            },
            "type": "scatterternary"
           }
          ],
          "surface": [
           {
            "colorbar": {
             "outlinewidth": 0,
             "ticks": ""
            },
            "colorscale": [
             [
              0,
              "#0d0887"
             ],
             [
              0.1111111111111111,
              "#46039f"
             ],
             [
              0.2222222222222222,
              "#7201a8"
             ],
             [
              0.3333333333333333,
              "#9c179e"
             ],
             [
              0.4444444444444444,
              "#bd3786"
             ],
             [
              0.5555555555555556,
              "#d8576b"
             ],
             [
              0.6666666666666666,
              "#ed7953"
             ],
             [
              0.7777777777777778,
              "#fb9f3a"
             ],
             [
              0.8888888888888888,
              "#fdca26"
             ],
             [
              1,
              "#f0f921"
             ]
            ],
            "type": "surface"
           }
          ],
          "table": [
           {
            "cells": {
             "fill": {
              "color": "#EBF0F8"
             },
             "line": {
              "color": "white"
             }
            },
            "header": {
             "fill": {
              "color": "#C8D4E3"
             },
             "line": {
              "color": "white"
             }
            },
            "type": "table"
           }
          ]
         },
         "layout": {
          "annotationdefaults": {
           "arrowcolor": "#2a3f5f",
           "arrowhead": 0,
           "arrowwidth": 1
          },
          "autotypenumbers": "strict",
          "coloraxis": {
           "colorbar": {
            "outlinewidth": 0,
            "ticks": ""
           }
          },
          "colorscale": {
           "diverging": [
            [
             0,
             "#8e0152"
            ],
            [
             0.1,
             "#c51b7d"
            ],
            [
             0.2,
             "#de77ae"
            ],
            [
             0.3,
             "#f1b6da"
            ],
            [
             0.4,
             "#fde0ef"
            ],
            [
             0.5,
             "#f7f7f7"
            ],
            [
             0.6,
             "#e6f5d0"
            ],
            [
             0.7,
             "#b8e186"
            ],
            [
             0.8,
             "#7fbc41"
            ],
            [
             0.9,
             "#4d9221"
            ],
            [
             1,
             "#276419"
            ]
           ],
           "sequential": [
            [
             0,
             "#0d0887"
            ],
            [
             0.1111111111111111,
             "#46039f"
            ],
            [
             0.2222222222222222,
             "#7201a8"
            ],
            [
             0.3333333333333333,
             "#9c179e"
            ],
            [
             0.4444444444444444,
             "#bd3786"
            ],
            [
             0.5555555555555556,
             "#d8576b"
            ],
            [
             0.6666666666666666,
             "#ed7953"
            ],
            [
             0.7777777777777778,
             "#fb9f3a"
            ],
            [
             0.8888888888888888,
             "#fdca26"
            ],
            [
             1,
             "#f0f921"
            ]
           ],
           "sequentialminus": [
            [
             0,
             "#0d0887"
            ],
            [
             0.1111111111111111,
             "#46039f"
            ],
            [
             0.2222222222222222,
             "#7201a8"
            ],
            [
             0.3333333333333333,
             "#9c179e"
            ],
            [
             0.4444444444444444,
             "#bd3786"
            ],
            [
             0.5555555555555556,
             "#d8576b"
            ],
            [
             0.6666666666666666,
             "#ed7953"
            ],
            [
             0.7777777777777778,
             "#fb9f3a"
            ],
            [
             0.8888888888888888,
             "#fdca26"
            ],
            [
             1,
             "#f0f921"
            ]
           ]
          },
          "colorway": [
           "#636efa",
           "#EF553B",
           "#00cc96",
           "#ab63fa",
           "#FFA15A",
           "#19d3f3",
           "#FF6692",
           "#B6E880",
           "#FF97FF",
           "#FECB52"
          ],
          "font": {
           "color": "#2a3f5f"
          },
          "geo": {
           "bgcolor": "white",
           "lakecolor": "white",
           "landcolor": "#E5ECF6",
           "showlakes": true,
           "showland": true,
           "subunitcolor": "white"
          },
          "hoverlabel": {
           "align": "left"
          },
          "hovermode": "closest",
          "mapbox": {
           "style": "light"
          },
          "paper_bgcolor": "white",
          "plot_bgcolor": "#E5ECF6",
          "polar": {
           "angularaxis": {
            "gridcolor": "white",
            "linecolor": "white",
            "ticks": ""
           },
           "bgcolor": "#E5ECF6",
           "radialaxis": {
            "gridcolor": "white",
            "linecolor": "white",
            "ticks": ""
           }
          },
          "scene": {
           "xaxis": {
            "backgroundcolor": "#E5ECF6",
            "gridcolor": "white",
            "gridwidth": 2,
            "linecolor": "white",
            "showbackground": true,
            "ticks": "",
            "zerolinecolor": "white"
           },
           "yaxis": {
            "backgroundcolor": "#E5ECF6",
            "gridcolor": "white",
            "gridwidth": 2,
            "linecolor": "white",
            "showbackground": true,
            "ticks": "",
            "zerolinecolor": "white"
           },
           "zaxis": {
            "backgroundcolor": "#E5ECF6",
            "gridcolor": "white",
            "gridwidth": 2,
            "linecolor": "white",
            "showbackground": true,
            "ticks": "",
            "zerolinecolor": "white"
           }
          },
          "shapedefaults": {
           "line": {
            "color": "#2a3f5f"
           }
          },
          "ternary": {
           "aaxis": {
            "gridcolor": "white",
            "linecolor": "white",
            "ticks": ""
           },
           "baxis": {
            "gridcolor": "white",
            "linecolor": "white",
            "ticks": ""
           },
           "bgcolor": "#E5ECF6",
           "caxis": {
            "gridcolor": "white",
            "linecolor": "white",
            "ticks": ""
           }
          },
          "title": {
           "x": 0.05
          },
          "xaxis": {
           "automargin": true,
           "gridcolor": "white",
           "linecolor": "white",
           "ticks": "",
           "title": {
            "standoff": 15
           },
           "zerolinecolor": "white",
           "zerolinewidth": 2
          },
          "yaxis": {
           "automargin": true,
           "gridcolor": "white",
           "linecolor": "white",
           "ticks": "",
           "title": {
            "standoff": 15
           },
           "zerolinecolor": "white",
           "zerolinewidth": 2
          }
         }
        },
        "title": {
         "text": "Convergence"
        },
        "xaxis": {
         "title": {
          "text": "Epochs"
         }
        },
        "yaxis": {
         "title": {
          "text": "MSE Loss"
         }
        }
       }
      }
     },
     "metadata": {}
    }
   ],
   "source": [
    "plot.convergence(\n",
    "    losses=[train_loss_history, test_loss_history],\n",
    "    names=['Train', 'Test']\n",
    ")"
   ]
  },
  {
   "cell_type": "code",
   "execution_count": 21,
   "metadata": {},
   "outputs": [],
   "source": [
    "torch.save(model, OUTPUT_PATH)"
   ]
  }
 ]
}